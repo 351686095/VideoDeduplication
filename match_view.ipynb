{
 "cells": [
  {
   "cell_type": "code",
   "execution_count": null,
   "id": "6e57951d",
   "metadata": {},
   "outputs": [],
   "source": [
    "import numpy as np\n",
    "from glob import glob\n",
    "import pandas as pd\n",
    "from matplotlib import pyplot as plt\n",
    "import cv2"
   ]
  },
  {
   "cell_type": "code",
   "execution_count": null,
   "id": "c42b28f3",
   "metadata": {},
   "outputs": [],
   "source": [
    "df_matches = pd.read_csv('data/scene_matches_simple_gen.csv')"
   ]
  },
  {
   "cell_type": "code",
   "execution_count": null,
   "id": "32d36986",
   "metadata": {},
   "outputs": [],
   "source": [
    "vid_dir = './data/'"
   ]
  },
  {
   "cell_type": "code",
   "execution_count": null,
   "id": "c39fe776",
   "metadata": {},
   "outputs": [],
   "source": [
    "scene_metadata_path = \"data/representations/scene_metadata.csv\"\n",
    "try:\n",
    "    # detect_scenes must have been run with config.save_files == True for this to work\n",
    "    scene_metadata = pd.read_csv(scene_metadata_path)\n",
    "    scene_durations = []\n",
    "    for _, row in scene_metadata.iterrows():\n",
    "        scene_durations += [[row['video_filename'], row['scene_duration_seconds']]]\n",
    "except Exception:\n",
    "    print(\"Error loading scene metadata, file '%s' not found\" % scene_metadata_path)"
   ]
  },
  {
   "cell_type": "code",
   "execution_count": null,
   "id": "b436d309",
   "metadata": {},
   "outputs": [],
   "source": [
    "for index, row in df_matches.iterrows():\n",
    "    if np.random.rand() < 0.9:\n",
    "        continue\n",
    "    print('===============')\n",
    "    filename_a = str(row[4])\n",
    "    vid_a_path = vid_dir + filename_a\n",
    "    filename_b = str(row[5])\n",
    "    vid_b_path = vid_dir + filename_b\n",
    "    scene_ind_a = int(row[6])\n",
    "    scene_ind_b = int(row[7])\n",
    "    print('Video a: ' + vid_a_path)\n",
    "    print('Scene a: %d' % scene_ind_a)\n",
    "    print('Video b: ' + vid_b_path)\n",
    "    print('Scene b: %d' % scene_ind_b)\n",
    "    print('Distance: ' + str(row[3]))\n",
    "    \n",
    "    scenes_dur_a = None\n",
    "    for filename, durs in scene_durations:\n",
    "        if filename in filename_a:\n",
    "            scenes_dur_a = [int(d) for d in durs.strip('][').split(', ')]\n",
    "            break\n",
    "    if scenes_dur_a is None:\n",
    "        raise Exception(\"Error: no scene metadata available for file '%s'\" % filename_a)\n",
    "        \n",
    "    cap = cv2.VideoCapture(vid_a_path)\n",
    "    frameWidth = int(cap.get(cv2.CAP_PROP_FRAME_WIDTH))\n",
    "    frameHeight = int(cap.get(cv2.CAP_PROP_FRAME_HEIGHT))\n",
    "    fps = int(cap.get(cv2.CAP_PROP_FPS)+.5)\n",
    "    print('FPS a: %d' % fps)\n",
    "        \n",
    "    pre_scene_dur_a = sum(scenes_dur_a[:scene_ind_a]) + scenes_dur_a[scene_ind_a]*0.5\n",
    "    pre_scene_frames_a = int(pre_scene_dur_a * fps)\n",
    "    \n",
    "    cap.set(cv2.CAP_PROP_POS_MSEC, pre_scene_dur_a)\n",
    "    #for i in range(pre_scene_frames_a+1):\n",
    "    _, buf_a = cap.read()\n",
    "    \n",
    "    cap.release()\n",
    "    \n",
    "    scenes_dur_b = None\n",
    "    for filename, durs in scene_durations:\n",
    "        if filename in filename_b:\n",
    "            scenes_dur_b = [int(d) for d in durs.strip('][').split(', ')]\n",
    "            break\n",
    "    if scenes_dur_b is None:\n",
    "        raise Exception(\"Error: no scene metadata available for file '%s'\" % filename_b)\n",
    "        \n",
    "    cap = cv2.VideoCapture(vid_b_path)\n",
    "    frameWidth = int(cap.get(cv2.CAP_PROP_FRAME_WIDTH))\n",
    "    frameHeight = int(cap.get(cv2.CAP_PROP_FRAME_HEIGHT))\n",
    "    fps = int(cap.get(cv2.CAP_PROP_FPS)+.5)\n",
    "    print('FPS b: %d' % fps)\n",
    "        \n",
    "    pre_scene_dur_b = sum(scenes_dur_b[:scene_ind_b]) + scenes_dur_b[scene_ind_b]*0.5\n",
    "    pre_scene_frames_b = int(pre_scene_dur_b * fps)\n",
    "    \n",
    "    cap.set(cv2.CAP_PROP_POS_MSEC, pre_scene_dur_b)\n",
    "    #for i in range(pre_scene_frames_b+1):\n",
    "    _, buf_b = cap.read()\n",
    "    \n",
    "    cap.release()\n",
    "    \n",
    "    print('Scene a duration: %d' % scenes_dur_a[scene_ind_a])\n",
    "    print('Scene b duration: %d' % scenes_dur_b[scene_ind_b])\n",
    "    \n",
    "    plt.subplot(1, 2, 1)\n",
    "    plt.imshow(buf_a)\n",
    "    plt.subplot(1, 2, 2)\n",
    "    plt.imshow(buf_b)\n",
    "    plt.show()\n",
    "\n"
   ]
  },
  {
   "cell_type": "code",
   "execution_count": null,
   "id": "7f0b617d",
   "metadata": {},
   "outputs": [],
   "source": []
  },
  {
   "cell_type": "code",
   "execution_count": null,
   "id": "55d86827",
   "metadata": {},
   "outputs": [],
   "source": []
  }
 ],
 "metadata": {
  "kernelspec": {
   "display_name": "Python 3",
   "language": "python",
   "name": "python3"
  },
  "language_info": {
   "codemirror_mode": {
    "name": "ipython",
    "version": 3
   },
   "file_extension": ".py",
   "mimetype": "text/x-python",
   "name": "python",
   "nbconvert_exporter": "python",
   "pygments_lexer": "ipython3",
   "version": "3.7.11"
  }
 },
 "nbformat": 4,
 "nbformat_minor": 5
}
