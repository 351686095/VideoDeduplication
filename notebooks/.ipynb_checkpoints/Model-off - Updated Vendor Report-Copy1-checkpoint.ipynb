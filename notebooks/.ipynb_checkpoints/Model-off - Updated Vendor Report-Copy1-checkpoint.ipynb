{
 "cells": [
  {
   "cell_type": "markdown",
   "metadata": {},
   "source": [
    "## Model Results Comparison\n",
    "\n",
    "Objectives:\n",
    "\n",
    "    1. Establish clear concepts / methodology for assessment\n",
    "    2. Assess Vendor Performance using definitions above\n",
    "    3. Assess Model performance by using same metrics"
   ]
  },
  {
   "cell_type": "code",
   "execution_count": 3,
   "metadata": {},
   "outputs": [],
   "source": [
    "import pandas as pd\n",
    "import numpy as np\n",
    "import matplotlib.pyplot as plt\n",
    "from glob import glob\n",
    "import os"
   ]
  },
  {
   "cell_type": "code",
   "execution_count": 4,
   "metadata": {},
   "outputs": [],
   "source": [
    "# Test Dataset information\n",
    "videos = glob('/datadrive/test_dataset/**')\n",
    "VIDEOS_LIST = os.path.abspath('syria_videos.txt')\n",
    "FRAME_LEVEL_SAVE_FOLDER = os.path.abspath('/datadrive/intermediate/frame_level')\n",
    "VIDEO_LEVEL_SAVE_FOLDER = '/datadrive/intermediate/video_level'\n",
    "VIDEO_SIGNATURES_SAVE_FOLDER = '/datadrive/intermediate/video_signatures'"
   ]
  },
  {
   "cell_type": "code",
   "execution_count": 5,
   "metadata": {},
   "outputs": [
    {
     "data": {
      "text/plain": [
       "3843"
      ]
     },
     "execution_count": 5,
     "metadata": {},
     "output_type": "execute_result"
    }
   ],
   "source": [
    "len(videos)"
   ]
  },
  {
   "cell_type": "code",
   "execution_count": 6,
   "metadata": {},
   "outputs": [],
   "source": [
    "vendorquery_df = pd.read_excel('Benetech_Deduping Report_29Jan2019.xlsx',sheet_name='Queries')\n",
    "not_searched_df = pd.read_excel('Benetech_Deduping Report_29Jan2019.xlsx',sheet_name='NotSearched')"
   ]
  },
  {
   "cell_type": "code",
   "execution_count": 7,
   "metadata": {},
   "outputs": [
    {
     "data": {
      "text/html": [
       "<div>\n",
       "<style scoped>\n",
       "    .dataframe tbody tr th:only-of-type {\n",
       "        vertical-align: middle;\n",
       "    }\n",
       "\n",
       "    .dataframe tbody tr th {\n",
       "        vertical-align: top;\n",
       "    }\n",
       "\n",
       "    .dataframe thead th {\n",
       "        text-align: right;\n",
       "    }\n",
       "</style>\n",
       "<table border=\"1\" class=\"dataframe\">\n",
       "  <thead>\n",
       "    <tr style=\"text-align: right;\">\n",
       "      <th></th>\n",
       "      <th>Q ID</th>\n",
       "    </tr>\n",
       "  </thead>\n",
       "  <tbody>\n",
       "    <tr>\n",
       "      <th>0</th>\n",
       "      <td>s3.videocitestest/_IeeP6GgqAA-6d13b4ca9335abe1...</td>\n",
       "    </tr>\n",
       "    <tr>\n",
       "      <th>1</th>\n",
       "      <td>s3.videocitestest/001906ce8bcc45c081267ea4af88...</td>\n",
       "    </tr>\n",
       "    <tr>\n",
       "      <th>2</th>\n",
       "      <td>s3.videocitestest/02f48226db3d4b01a809c2e1b138...</td>\n",
       "    </tr>\n",
       "    <tr>\n",
       "      <th>3</th>\n",
       "      <td>s3.videocitestest/035cdab250914659981fb0060129...</td>\n",
       "    </tr>\n",
       "    <tr>\n",
       "      <th>4</th>\n",
       "      <td>s3.videocitestest/05d5df0e798a4b0caf8153e0f3e8...</td>\n",
       "    </tr>\n",
       "  </tbody>\n",
       "</table>\n",
       "</div>"
      ],
      "text/plain": [
       "                                                Q ID\n",
       "0  s3.videocitestest/_IeeP6GgqAA-6d13b4ca9335abe1...\n",
       "1  s3.videocitestest/001906ce8bcc45c081267ea4af88...\n",
       "2  s3.videocitestest/02f48226db3d4b01a809c2e1b138...\n",
       "3  s3.videocitestest/035cdab250914659981fb0060129...\n",
       "4  s3.videocitestest/05d5df0e798a4b0caf8153e0f3e8..."
      ]
     },
     "execution_count": 7,
     "metadata": {},
     "output_type": "execute_result"
    }
   ],
   "source": [
    "not_searched_df.head()"
   ]
  },
  {
   "cell_type": "code",
   "execution_count": 8,
   "metadata": {},
   "outputs": [
    {
     "data": {
      "text/html": [
       "<div>\n",
       "<style scoped>\n",
       "    .dataframe tbody tr th:only-of-type {\n",
       "        vertical-align: middle;\n",
       "    }\n",
       "\n",
       "    .dataframe tbody tr th {\n",
       "        vertical-align: top;\n",
       "    }\n",
       "\n",
       "    .dataframe thead th {\n",
       "        text-align: right;\n",
       "    }\n",
       "</style>\n",
       "<table border=\"1\" class=\"dataframe\">\n",
       "  <thead>\n",
       "    <tr style=\"text-align: right;\">\n",
       "      <th></th>\n",
       "      <th>Q ID</th>\n",
       "      <th>filename</th>\n",
       "    </tr>\n",
       "  </thead>\n",
       "  <tbody>\n",
       "    <tr>\n",
       "      <th>0</th>\n",
       "      <td>s3.videocitestest/_5g95MUIieM-7673d38ccc6e268b...</td>\n",
       "      <td>_5g95MUIieM-7673d38ccc6e268bf6d79e61f388d37b.mp4</td>\n",
       "    </tr>\n",
       "    <tr>\n",
       "      <th>1</th>\n",
       "      <td>s3.videocitestest/_a8srUndP8Y-48644a14cbb89129...</td>\n",
       "      <td>_a8srUndP8Y-48644a14cbb89129dccdcde0f5715de3.mp4</td>\n",
       "    </tr>\n",
       "    <tr>\n",
       "      <th>2</th>\n",
       "      <td>s3.videocitestest/_afTSrDroHs-06d2f1b68aabc513...</td>\n",
       "      <td>_afTSrDroHs-06d2f1b68aabc513424f74184663caa9.mp4</td>\n",
       "    </tr>\n",
       "    <tr>\n",
       "      <th>3</th>\n",
       "      <td>s3.videocitestest/_bja8VCDY_w-129f9c4b34cfe622...</td>\n",
       "      <td>_bja8VCDY_w-129f9c4b34cfe6227d4311231e08ee3f.mp4</td>\n",
       "    </tr>\n",
       "    <tr>\n",
       "      <th>4</th>\n",
       "      <td>s3.videocitestest/_cmXD8JT2hY-2b0c77a29384fe93...</td>\n",
       "      <td>_cmXD8JT2hY-2b0c77a29384fe9387b37408888ea96e.mp4</td>\n",
       "    </tr>\n",
       "  </tbody>\n",
       "</table>\n",
       "</div>"
      ],
      "text/plain": [
       "                                                Q ID  \\\n",
       "0  s3.videocitestest/_5g95MUIieM-7673d38ccc6e268b...   \n",
       "1  s3.videocitestest/_a8srUndP8Y-48644a14cbb89129...   \n",
       "2  s3.videocitestest/_afTSrDroHs-06d2f1b68aabc513...   \n",
       "3  s3.videocitestest/_bja8VCDY_w-129f9c4b34cfe622...   \n",
       "4  s3.videocitestest/_cmXD8JT2hY-2b0c77a29384fe93...   \n",
       "\n",
       "                                           filename  \n",
       "0  _5g95MUIieM-7673d38ccc6e268bf6d79e61f388d37b.mp4  \n",
       "1  _a8srUndP8Y-48644a14cbb89129dccdcde0f5715de3.mp4  \n",
       "2  _afTSrDroHs-06d2f1b68aabc513424f74184663caa9.mp4  \n",
       "3  _bja8VCDY_w-129f9c4b34cfe6227d4311231e08ee3f.mp4  \n",
       "4  _cmXD8JT2hY-2b0c77a29384fe9387b37408888ea96e.mp4  "
      ]
     },
     "execution_count": 8,
     "metadata": {},
     "output_type": "execute_result"
    }
   ],
   "source": [
    "vendorquery_df['filename'] = vendorquery_df['Q ID'].apply(lambda x:x.split('/')[-1])\n",
    "not_searched_df['filename'] = vendorquery_df['Q ID'].apply(lambda x:x.split('/')[-1])\n",
    "vendorquery_df.head()"
   ]
  },
  {
   "cell_type": "code",
   "execution_count": 9,
   "metadata": {},
   "outputs": [
    {
     "data": {
      "text/plain": [
       "(2373, 2)"
      ]
     },
     "execution_count": 9,
     "metadata": {},
     "output_type": "execute_result"
    }
   ],
   "source": [
    "not_searched_fns = not_searched_df['filename']\n",
    "vendorquery_df = vendorquery_df.loc[~vendorquery_df['filename'].isin(not_searched_fns),:]\n",
    "vendorquery_df.shape"
   ]
  },
  {
   "cell_type": "code",
   "execution_count": 10,
   "metadata": {},
   "outputs": [
    {
     "data": {
      "text/plain": [
       "17178aac7c27400e944b71c25a170df6.webm                1\n",
       "d33716bf0d0e4567995c5eaca8bdcef1.ogv                 1\n",
       "nyia9UqpBnc-19fe4eab9ffa2ac395045a7320550fed.mp4     1\n",
       "qHhQ1wEMF5w-6a8319d805945b40dd88e0c5d66c90eb.mp4     1\n",
       "d125044aa0fe40d680c022b7f20243aa.mp4                 1\n",
       "b79d1f79b8a74fbeb2d1c99dde71dd7f.mp4                 1\n",
       "b428157a95cd4b5c9a2b58a8658fc3d9.webm                1\n",
       "acac6a0c9b134b1ebedcf24145c421c3.webm                1\n",
       "9ccd64b6ad62462dbe65e5033afb050d.mp4                 1\n",
       "gHp4ZSiX0gw-857b20dd1be02eeb0493fa2280904323.webm    1\n",
       "0GgISNbPmk8-656b3de1c0df3617469139e8ba73ff5a.mp4     1\n",
       "18327cec79914b1f8e9dfab0398ddad7.ogv                 1\n",
       "bFw4gUuZR3I-dc551d0d4141ea2ae2816c17b4da40cf.mp4     1\n",
       "6f6efec4a188469390453c06f8421442.webm                1\n",
       "1aa097c94e724a818e62d30701734674.webm                1\n",
       "0e55b92adab049eb98241c5518ad75e7.mp4                 1\n",
       "BIsmaOHlMR0-04a003e1a9bcc5d8435f284620473ec9.mp4     1\n",
       "6b181fcbbb8a4314ab5276ea4121fb6c.mp4                 1\n",
       "1892db9557e443fea862222330dc90b6.mp4                 1\n",
       "80b42cf9ca9940eca6914fc76243c3c7.mp4                 1\n",
       "2zz4HCsa3Rg-3afa4f521bcb72817cd1ee88fe101519.mp4     1\n",
       "3fd684035e5742e585c3dbd26a7a7cfc.webm                1\n",
       "moJaAkyWtTM-fc30e798b1a344382c164daf28bf357b.mp4     1\n",
       "mOMjxgNmC6A-978846ea8b782839888f86cf8d9022be.mp4     1\n",
       "7978891c51084b47a6d712eb4bb0540f.mp4                 1\n",
       "a11628ee20624105aff3e300e198bb31.mp4                 1\n",
       "tss8BRY2Jmk-a3506f0ec7d1cfba7cf128ff2b700731.mp4     1\n",
       "59f6582284e5497b8846ac3786488bb8.mp4                 1\n",
       "7b143329b49a465a8ccab540b8e6e6d2.webm                1\n",
       "72aa4d55509e45589ad98f44a57da44d.mp4                 1\n",
       "                                                    ..\n",
       "2f116ab94573453e8d7a471de6054372.webm                1\n",
       "j2BgyavFvss-7dfaec88cfe899afba8474d397567e00.webm    1\n",
       "gos1y5l9Pg0-d2f83335d34170054f7a1123314bc334.mp4     1\n",
       "7653900e19144a4fb5be16a13cd57fa9.mp4                 1\n",
       "916cc4d7494647f3ba816f88602216ab.mp4                 1\n",
       "YyFPuh4sKK0-fd6900c3558c5152810240a7d7230756.mp4     1\n",
       "1ae36cbd6aab4cc2b315f5b3e71394b3.ogv                 1\n",
       "35b3a5b5871f41ddb3b34d15370c7b62.ogv                 1\n",
       "565e6f1c8417447b9bfa511912706a92.webm                1\n",
       "c374b8aafe894f9aa961f3ea932b6149.ogv                 1\n",
       "b558c0e6e17d4add97933663f5e8e04c.mp4                 1\n",
       "7ngFiRrvAFs-a33ba1d3d7936002bc099d8e4ad3c44e.mp4     1\n",
       "BAy4ztYUaX8-c4192cba58779ef2291b623e2c866a5d.mp4     1\n",
       "tq-nxXaB5MM-66f0a31812db910f7c7b25745539fc2d.mp4     1\n",
       "914f3d468a684a929a0c086cea1b9289.ogv                 1\n",
       "2b863b592b204f6ab5999f6dd1c61eee.webm                1\n",
       "kzUcFGciSK0-e4b57c2b4b3687d93141877b027482de.mp4     1\n",
       "92a418dd390545e48f9b648524e3471c.mp4                 1\n",
       "1hY9FAXDYCU-b9c994076b4a37d3f59a69aae9411ee2.mp4     1\n",
       "mXdtPemDsFg-f6f3fee2f664010b979c96ae14a499dd.mp4     1\n",
       "Yr4FtEaeQRE-fb0c8b620d38441874623f4c44b6b0d5.mp4     1\n",
       "b6ff7baa9fa241589f298e415769a81e.mp4                 1\n",
       "563f4334432f408792e1afd98307ee08.mp4                 1\n",
       "9288ea727ec24e6d87cfed4c40cc08bc.mp4                 1\n",
       "82f7ac46cc084a2e9430a6ad7e52b85b.ogv                 1\n",
       "XF-MEzftZ0s-83c2b1d7d679a39c7a3d4bc46c63344c.mp4     1\n",
       "71e9600736be418ca3076a1d1e35b7cb.mp4                 1\n",
       "3b95a145dde44ea7a947a8897d0291b8.mp4                 1\n",
       "2aca3084bf0240c087fe2b0899808527.mp4                 1\n",
       "7472a034c4954c289f9e3064b0bbbbce.ogv                 1\n",
       "Name: filename, Length: 2373, dtype: int64"
      ]
     },
     "execution_count": 10,
     "metadata": {},
     "output_type": "execute_result"
    }
   ],
   "source": [
    "vendorquery_df['filename'].value_counts()"
   ]
  },
  {
   "cell_type": "markdown",
   "metadata": {},
   "source": [
    "## Match Query summary"
   ]
  },
  {
   "cell_type": "code",
   "execution_count": 11,
   "metadata": {},
   "outputs": [
    {
     "data": {
      "text/html": [
       "<div>\n",
       "<style scoped>\n",
       "    .dataframe tbody tr th:only-of-type {\n",
       "        vertical-align: middle;\n",
       "    }\n",
       "\n",
       "    .dataframe tbody tr th {\n",
       "        vertical-align: top;\n",
       "    }\n",
       "\n",
       "    .dataframe thead th {\n",
       "        text-align: right;\n",
       "    }\n",
       "</style>\n",
       "<table border=\"1\" class=\"dataframe\">\n",
       "  <thead>\n",
       "    <tr style=\"text-align: right;\">\n",
       "      <th></th>\n",
       "      <th>Q ID</th>\n",
       "      <th>Q URL</th>\n",
       "      <th>Q Duration</th>\n",
       "      <th>Q Width</th>\n",
       "      <th>Q Height</th>\n",
       "      <th>Q FPS</th>\n",
       "      <th>M ID</th>\n",
       "      <th>M URL</th>\n",
       "      <th>M Duration</th>\n",
       "      <th>M Status</th>\n",
       "      <th>q_filename</th>\n",
       "      <th>m_filename</th>\n",
       "    </tr>\n",
       "  </thead>\n",
       "  <tbody>\n",
       "    <tr>\n",
       "      <th>2</th>\n",
       "      <td>s3.videocitestest/QGFBGnpXMqE-07d9e6754f49d3eb...</td>\n",
       "      <td>https://videocitestest.s3.amazonaws.com/QGFBGn...</td>\n",
       "      <td>81</td>\n",
       "      <td>640</td>\n",
       "      <td>360</td>\n",
       "      <td>30.0</td>\n",
       "      <td>s3.videocitestest/6YmKwon4X0c-f518e04bd71707dd...</td>\n",
       "      <td>https://videocitestest.s3.amazonaws.com/6YmKwo...</td>\n",
       "      <td>179</td>\n",
       "      <td>match</td>\n",
       "      <td>QGFBGnpXMqE-07d9e6754f49d3eb87d95767bff7e696.mp4</td>\n",
       "      <td>6YmKwon4X0c-f518e04bd71707ddd985f89f03cc7784.mp4</td>\n",
       "    </tr>\n",
       "    <tr>\n",
       "      <th>129</th>\n",
       "      <td>s3.videocitestest/QGFBGnpXMqE-07d9e6754f49d3eb...</td>\n",
       "      <td>https://videocitestest.s3.amazonaws.com/QGFBGn...</td>\n",
       "      <td>81</td>\n",
       "      <td>640</td>\n",
       "      <td>360</td>\n",
       "      <td>30.0</td>\n",
       "      <td>s3.videocitestest/sW02MYKmUaM-f8c6ef6974e0d853...</td>\n",
       "      <td>https://videocitestest.s3.amazonaws.com/sW02MY...</td>\n",
       "      <td>64</td>\n",
       "      <td>match</td>\n",
       "      <td>QGFBGnpXMqE-07d9e6754f49d3eb87d95767bff7e696.mp4</td>\n",
       "      <td>sW02MYKmUaM-f8c6ef6974e0d853df113f45e1242628.mp4</td>\n",
       "    </tr>\n",
       "    <tr>\n",
       "      <th>138</th>\n",
       "      <td>s3.videocitestest/QGFBGnpXMqE-07d9e6754f49d3eb...</td>\n",
       "      <td>https://videocitestest.s3.amazonaws.com/QGFBGn...</td>\n",
       "      <td>81</td>\n",
       "      <td>640</td>\n",
       "      <td>360</td>\n",
       "      <td>30.0</td>\n",
       "      <td>s3.videocitestest/018MsV21q00-3419176ec77eea4d...</td>\n",
       "      <td>https://videocitestest.s3.amazonaws.com/018MsV...</td>\n",
       "      <td>81</td>\n",
       "      <td>match</td>\n",
       "      <td>QGFBGnpXMqE-07d9e6754f49d3eb87d95767bff7e696.mp4</td>\n",
       "      <td>018MsV21q00-3419176ec77eea4da5161cf6faa05a3d.mp4</td>\n",
       "    </tr>\n",
       "    <tr>\n",
       "      <th>311</th>\n",
       "      <td>s3.videocitestest/QGFBGnpXMqE-07d9e6754f49d3eb...</td>\n",
       "      <td>https://videocitestest.s3.amazonaws.com/QGFBGn...</td>\n",
       "      <td>81</td>\n",
       "      <td>640</td>\n",
       "      <td>360</td>\n",
       "      <td>30.0</td>\n",
       "      <td>s3.videocitestest/4fbf84566d434628bc6954a36e77...</td>\n",
       "      <td>https://videocitestest.s3.amazonaws.com/4fbf84...</td>\n",
       "      <td>79</td>\n",
       "      <td>match</td>\n",
       "      <td>QGFBGnpXMqE-07d9e6754f49d3eb87d95767bff7e696.mp4</td>\n",
       "      <td>4fbf84566d434628bc6954a36e7722d5.webm</td>\n",
       "    </tr>\n",
       "    <tr>\n",
       "      <th>325</th>\n",
       "      <td>s3.videocitestest/QGFBGnpXMqE-07d9e6754f49d3eb...</td>\n",
       "      <td>https://videocitestest.s3.amazonaws.com/QGFBGn...</td>\n",
       "      <td>81</td>\n",
       "      <td>640</td>\n",
       "      <td>360</td>\n",
       "      <td>30.0</td>\n",
       "      <td>s3.videocitestest/7faf034173f4451398b05e6f1686...</td>\n",
       "      <td>https://videocitestest.s3.amazonaws.com/7faf03...</td>\n",
       "      <td>83</td>\n",
       "      <td>match</td>\n",
       "      <td>QGFBGnpXMqE-07d9e6754f49d3eb87d95767bff7e696.mp4</td>\n",
       "      <td>7faf034173f4451398b05e6f1686a896.webm</td>\n",
       "    </tr>\n",
       "    <tr>\n",
       "      <th>338</th>\n",
       "      <td>s3.videocitestest/QGFBGnpXMqE-07d9e6754f49d3eb...</td>\n",
       "      <td>https://videocitestest.s3.amazonaws.com/QGFBGn...</td>\n",
       "      <td>81</td>\n",
       "      <td>640</td>\n",
       "      <td>360</td>\n",
       "      <td>30.0</td>\n",
       "      <td>s3.videocitestest/4214d032b0924870a216958e84a7...</td>\n",
       "      <td>https://videocitestest.s3.amazonaws.com/4214d0...</td>\n",
       "      <td>86</td>\n",
       "      <td>match</td>\n",
       "      <td>QGFBGnpXMqE-07d9e6754f49d3eb87d95767bff7e696.mp4</td>\n",
       "      <td>4214d032b0924870a216958e84a7544a.ogv</td>\n",
       "    </tr>\n",
       "  </tbody>\n",
       "</table>\n",
       "</div>"
      ],
      "text/plain": [
       "                                                  Q ID  \\\n",
       "2    s3.videocitestest/QGFBGnpXMqE-07d9e6754f49d3eb...   \n",
       "129  s3.videocitestest/QGFBGnpXMqE-07d9e6754f49d3eb...   \n",
       "138  s3.videocitestest/QGFBGnpXMqE-07d9e6754f49d3eb...   \n",
       "311  s3.videocitestest/QGFBGnpXMqE-07d9e6754f49d3eb...   \n",
       "325  s3.videocitestest/QGFBGnpXMqE-07d9e6754f49d3eb...   \n",
       "338  s3.videocitestest/QGFBGnpXMqE-07d9e6754f49d3eb...   \n",
       "\n",
       "                                                 Q URL  Q Duration  Q Width  \\\n",
       "2    https://videocitestest.s3.amazonaws.com/QGFBGn...          81      640   \n",
       "129  https://videocitestest.s3.amazonaws.com/QGFBGn...          81      640   \n",
       "138  https://videocitestest.s3.amazonaws.com/QGFBGn...          81      640   \n",
       "311  https://videocitestest.s3.amazonaws.com/QGFBGn...          81      640   \n",
       "325  https://videocitestest.s3.amazonaws.com/QGFBGn...          81      640   \n",
       "338  https://videocitestest.s3.amazonaws.com/QGFBGn...          81      640   \n",
       "\n",
       "     Q Height  Q FPS                                               M ID  \\\n",
       "2         360   30.0  s3.videocitestest/6YmKwon4X0c-f518e04bd71707dd...   \n",
       "129       360   30.0  s3.videocitestest/sW02MYKmUaM-f8c6ef6974e0d853...   \n",
       "138       360   30.0  s3.videocitestest/018MsV21q00-3419176ec77eea4d...   \n",
       "311       360   30.0  s3.videocitestest/4fbf84566d434628bc6954a36e77...   \n",
       "325       360   30.0  s3.videocitestest/7faf034173f4451398b05e6f1686...   \n",
       "338       360   30.0  s3.videocitestest/4214d032b0924870a216958e84a7...   \n",
       "\n",
       "                                                 M URL  M Duration M Status  \\\n",
       "2    https://videocitestest.s3.amazonaws.com/6YmKwo...         179    match   \n",
       "129  https://videocitestest.s3.amazonaws.com/sW02MY...          64    match   \n",
       "138  https://videocitestest.s3.amazonaws.com/018MsV...          81    match   \n",
       "311  https://videocitestest.s3.amazonaws.com/4fbf84...          79    match   \n",
       "325  https://videocitestest.s3.amazonaws.com/7faf03...          83    match   \n",
       "338  https://videocitestest.s3.amazonaws.com/4214d0...          86    match   \n",
       "\n",
       "                                           q_filename  \\\n",
       "2    QGFBGnpXMqE-07d9e6754f49d3eb87d95767bff7e696.mp4   \n",
       "129  QGFBGnpXMqE-07d9e6754f49d3eb87d95767bff7e696.mp4   \n",
       "138  QGFBGnpXMqE-07d9e6754f49d3eb87d95767bff7e696.mp4   \n",
       "311  QGFBGnpXMqE-07d9e6754f49d3eb87d95767bff7e696.mp4   \n",
       "325  QGFBGnpXMqE-07d9e6754f49d3eb87d95767bff7e696.mp4   \n",
       "338  QGFBGnpXMqE-07d9e6754f49d3eb87d95767bff7e696.mp4   \n",
       "\n",
       "                                           m_filename  \n",
       "2    6YmKwon4X0c-f518e04bd71707ddd985f89f03cc7784.mp4  \n",
       "129  sW02MYKmUaM-f8c6ef6974e0d853df113f45e1242628.mp4  \n",
       "138  018MsV21q00-3419176ec77eea4da5161cf6faa05a3d.mp4  \n",
       "311             4fbf84566d434628bc6954a36e7722d5.webm  \n",
       "325             7faf034173f4451398b05e6f1686a896.webm  \n",
       "338              4214d032b0924870a216958e84a7544a.ogv  "
      ]
     },
     "execution_count": 11,
     "metadata": {},
     "output_type": "execute_result"
    }
   ],
   "source": [
    "# Vendor Results spreadsheet\n",
    "vendor_df = pd.read_excel('Benetech_Deduping Report_29Jan2019.xlsx')\n",
    "# Additional filename fields for both Query / Match Videos\n",
    "vendor_df['q_filename'] = vendor_df['Q ID'].apply(lambda x:x.split('/')[-1])\n",
    "vendor_df['m_filename'] = vendor_df['M ID'].apply(lambda x:x.split('/')[-1])\n",
    "# \n",
    "unique_qs = vendor_df['q_filename'].value_counts().index\n",
    "vendor_df.loc[vendor_df['q_filename'] == unique_qs[0],:]"
   ]
  },
  {
   "cell_type": "code",
   "execution_count": 12,
   "metadata": {},
   "outputs": [
    {
     "data": {
      "text/plain": [
       "(555, 12)"
      ]
     },
     "execution_count": 12,
     "metadata": {},
     "output_type": "execute_result"
    }
   ],
   "source": [
    "vendor_df.shape"
   ]
  },
  {
   "cell_type": "code",
   "execution_count": 13,
   "metadata": {},
   "outputs": [
    {
     "data": {
      "text/plain": [
       "QGFBGnpXMqE-07d9e6754f49d3eb87d95767bff7e696.mp4    6\n",
       "550c6ee08ac64e31849862c60b810cb9.ogv                5\n",
       "b55219c130a64df49a05c61b825efdc7.ogv                4\n",
       "3b95a145dde44ea7a947a8897d0291b8.mp4                4\n",
       "4ac1ad9c38934eaab7fa0146141c9354.mp4                4\n",
       "8885400fcf264e67babb46fbe1b8d290.mp4                4\n",
       "4pcIA0Vx_Ok-a6ff21a834134a75701b950030cca07c.mp4    4\n",
       "9b223626726c4e8db8d9fe683cb64c20.webm               4\n",
       "a11fa902d2df4e7fb623d8f15dbbc907.webm               4\n",
       "80a0a23aeb1d4a699f5cdcf846eee96c.ogv                4\n",
       "GyaFEZujpbY-e2e5d448e968fd988bf891592ef744af.mp4    3\n",
       "fdbecbfceb4a49cc940a816aff85f183.mp4                3\n",
       "ba2dac8a2a4b44659c53671358b6980a.ogv                3\n",
       "743d8aef543e49f0901853f8ec239978.webm               3\n",
       "Au6wyThNMGk-e4e7961b8eb424ab6cb4bedb7914abc9.mp4    3\n",
       "50b360289d6849eba54758c4021d70fa.mp4                3\n",
       "04da0835050b472689abff6fbb47515c.ogv                3\n",
       "d037ae1a2c8a43938139252e660dec04.webm               3\n",
       "9207ef23b1aa42d2ad4e138b7a5fc50a.webm               3\n",
       "20ef78f27905452db356123f68a38382.ogv                3\n",
       "Name: q_filename, dtype: int64"
      ]
     },
     "execution_count": 13,
     "metadata": {},
     "output_type": "execute_result"
    }
   ],
   "source": [
    "vendor_df['q_filename'].value_counts()[:20]"
   ]
  },
  {
   "cell_type": "markdown",
   "metadata": {},
   "source": [
    "Assumption: Each query on the Queries sheet, was performed against the remaining dataset. This explains the reason why there are multiple queries for a given filename."
   ]
  },
  {
   "cell_type": "code",
   "execution_count": 14,
   "metadata": {},
   "outputs": [],
   "source": [
    "augmentation_manifesto = pd.read_csv('/home/felipeb/augmenter/augmented_dataset_manifest')"
   ]
  },
  {
   "cell_type": "code",
   "execution_count": 15,
   "metadata": {},
   "outputs": [
    {
     "name": "stderr",
     "output_type": "stream",
     "text": [
      "/home/felipeb/.conda/envs/winnow/lib/python3.6/site-packages/ipykernel_launcher.py:4: SettingWithCopyWarning: \n",
      "A value is trying to be set on a copy of a slice from a DataFrame.\n",
      "Try using .loc[row_indexer,col_indexer] = value instead\n",
      "\n",
      "See the caveats in the documentation: http://pandas.pydata.org/pandas-docs/stable/indexing.html#indexing-view-versus-copy\n",
      "  after removing the cwd from sys.path.\n"
     ]
    }
   ],
   "source": [
    "augmentation_manifesto['original_basename'] = augmentation_manifesto['file_path'].apply(lambda x:os.path.basename(x))\n",
    "test_dataset = [os.path.basename(x) for x in videos]\n",
    "used = augmentation_manifesto.loc[augmentation_manifesto['new_filename'].isin(test_dataset),:]\n",
    "used['isAugmented'] = True"
   ]
  },
  {
   "cell_type": "code",
   "execution_count": 16,
   "metadata": {},
   "outputs": [],
   "source": [
    "augmented_files = used['new_filename'].values"
   ]
  },
  {
   "cell_type": "code",
   "execution_count": 17,
   "metadata": {},
   "outputs": [],
   "source": [
    "vendor_df['augmented_q'] = False\n",
    "vendor_df['augmented_m'] = False\n",
    "\n",
    "vendor_df.loc[vendor_df['q_filename'].isin(augmented_files),'augmented_q'] = True\n",
    "vendor_df.loc[vendor_df['m_filename'].isin(augmented_files),'augmented_m'] = True"
   ]
  },
  {
   "cell_type": "markdown",
   "metadata": {},
   "source": [
    "In order to assess performance, we'll we'll restrain the problem to the files that we actually have the answer (augmented files). Even though there might be additional files for which the vendor has reported the right answer but the only way to verify it is to perform manual validation."
   ]
  },
  {
   "cell_type": "code",
   "execution_count": 18,
   "metadata": {},
   "outputs": [
    {
     "data": {
      "text/html": [
       "<div>\n",
       "<style scoped>\n",
       "    .dataframe tbody tr th:only-of-type {\n",
       "        vertical-align: middle;\n",
       "    }\n",
       "\n",
       "    .dataframe tbody tr th {\n",
       "        vertical-align: top;\n",
       "    }\n",
       "\n",
       "    .dataframe thead th {\n",
       "        text-align: right;\n",
       "    }\n",
       "</style>\n",
       "<table border=\"1\" class=\"dataframe\">\n",
       "  <thead>\n",
       "    <tr style=\"text-align: right;\">\n",
       "      <th></th>\n",
       "      <th>Q ID</th>\n",
       "      <th>filename</th>\n",
       "    </tr>\n",
       "  </thead>\n",
       "  <tbody>\n",
       "    <tr>\n",
       "      <th>127</th>\n",
       "      <td>s3.videocitestest/0e30b5853e21433192877c1a76e9...</td>\n",
       "      <td>0e30b5853e21433192877c1a76e9f203.mp4</td>\n",
       "    </tr>\n",
       "    <tr>\n",
       "      <th>128</th>\n",
       "      <td>s3.videocitestest/0e55b92adab049eb98241c5518ad...</td>\n",
       "      <td>0e55b92adab049eb98241c5518ad75e7.mp4</td>\n",
       "    </tr>\n",
       "    <tr>\n",
       "      <th>129</th>\n",
       "      <td>s3.videocitestest/0e57cd65cae44889ba079ef92c00...</td>\n",
       "      <td>0e57cd65cae44889ba079ef92c00fdfd.mp4</td>\n",
       "    </tr>\n",
       "    <tr>\n",
       "      <th>130</th>\n",
       "      <td>s3.videocitestest/0eb0bcf51eee4ae58a5bc10a2faf...</td>\n",
       "      <td>0eb0bcf51eee4ae58a5bc10a2faf0c8c.ogv</td>\n",
       "    </tr>\n",
       "    <tr>\n",
       "      <th>131</th>\n",
       "      <td>s3.videocitestest/0eb3de748a614cbd8555ab39178d...</td>\n",
       "      <td>0eb3de748a614cbd8555ab39178dd842.ogv</td>\n",
       "    </tr>\n",
       "  </tbody>\n",
       "</table>\n",
       "</div>"
      ],
      "text/plain": [
       "                                                  Q ID  \\\n",
       "127  s3.videocitestest/0e30b5853e21433192877c1a76e9...   \n",
       "128  s3.videocitestest/0e55b92adab049eb98241c5518ad...   \n",
       "129  s3.videocitestest/0e57cd65cae44889ba079ef92c00...   \n",
       "130  s3.videocitestest/0eb0bcf51eee4ae58a5bc10a2faf...   \n",
       "131  s3.videocitestest/0eb3de748a614cbd8555ab39178d...   \n",
       "\n",
       "                                 filename  \n",
       "127  0e30b5853e21433192877c1a76e9f203.mp4  \n",
       "128  0e55b92adab049eb98241c5518ad75e7.mp4  \n",
       "129  0e57cd65cae44889ba079ef92c00fdfd.mp4  \n",
       "130  0eb0bcf51eee4ae58a5bc10a2faf0c8c.ogv  \n",
       "131  0eb3de748a614cbd8555ab39178dd842.ogv  "
      ]
     },
     "execution_count": 18,
     "metadata": {},
     "output_type": "execute_result"
    }
   ],
   "source": [
    "vendorquery_df.head()"
   ]
  },
  {
   "cell_type": "code",
   "execution_count": 19,
   "metadata": {},
   "outputs": [],
   "source": [
    "m_q = dict(zip(vendor_df['m_filename'],vendor_df['q_filename']))"
   ]
  },
  {
   "cell_type": "code",
   "execution_count": 20,
   "metadata": {},
   "outputs": [],
   "source": [
    "def matching(x,d):\n",
    "    try:\n",
    "        return d[x]\n",
    "    except:\n",
    "        return x"
   ]
  },
  {
   "cell_type": "code",
   "execution_count": 21,
   "metadata": {},
   "outputs": [],
   "source": [
    "vendorquery_df['match_filename'] = vendorquery_df['filename'].apply(lambda x:matching(x,m_q))"
   ]
  },
  {
   "cell_type": "code",
   "execution_count": 22,
   "metadata": {},
   "outputs": [
    {
     "data": {
      "text/plain": [
       "2172"
      ]
     },
     "execution_count": 22,
     "metadata": {},
     "output_type": "execute_result"
    }
   ],
   "source": [
    "vendorquery_df['match_filename'].nunique()"
   ]
  },
  {
   "cell_type": "code",
   "execution_count": 23,
   "metadata": {},
   "outputs": [],
   "source": [
    "vendorquery_df['isUnique'] = vendorquery_df.apply(lambda x: x['filename'] == x['match_filename'],axis=1)"
   ]
  },
  {
   "cell_type": "code",
   "execution_count": 24,
   "metadata": {},
   "outputs": [
    {
     "data": {
      "text/plain": [
       "True     1954\n",
       "False     419\n",
       "Name: isUnique, dtype: int64"
      ]
     },
     "execution_count": 24,
     "metadata": {},
     "output_type": "execute_result"
    }
   ],
   "source": [
    "vendorquery_df.isUnique.value_counts()"
   ]
  },
  {
   "cell_type": "markdown",
   "metadata": {},
   "source": [
    "Unless there are two files from the same source, or the source itself, we cannot make any assumptions about a file being unique. Now we need to implement a few helper functions to evaluate the results in a way to account for these details."
   ]
  },
  {
   "cell_type": "code",
   "execution_count": 25,
   "metadata": {},
   "outputs": [
    {
     "data": {
      "text/html": [
       "<div>\n",
       "<style scoped>\n",
       "    .dataframe tbody tr th:only-of-type {\n",
       "        vertical-align: middle;\n",
       "    }\n",
       "\n",
       "    .dataframe tbody tr th {\n",
       "        vertical-align: top;\n",
       "    }\n",
       "\n",
       "    .dataframe thead th {\n",
       "        text-align: right;\n",
       "    }\n",
       "</style>\n",
       "<table border=\"1\" class=\"dataframe\">\n",
       "  <thead>\n",
       "    <tr style=\"text-align: right;\">\n",
       "      <th></th>\n",
       "      <th>Unnamed: 0</th>\n",
       "      <th>banner</th>\n",
       "      <th>bitrate</th>\n",
       "      <th>color_intensity</th>\n",
       "      <th>crop</th>\n",
       "      <th>extension</th>\n",
       "      <th>file_path</th>\n",
       "      <th>intensity</th>\n",
       "      <th>logo</th>\n",
       "      <th>offset</th>\n",
       "      <th>shaky</th>\n",
       "      <th>shaky_after_logo</th>\n",
       "      <th>speed_change</th>\n",
       "      <th>filename</th>\n",
       "      <th>original_extension</th>\n",
       "      <th>new_filename</th>\n",
       "      <th>original_basename</th>\n",
       "    </tr>\n",
       "  </thead>\n",
       "  <tbody>\n",
       "    <tr>\n",
       "      <th>0</th>\n",
       "      <td>0</td>\n",
       "      <td>NaN</td>\n",
       "      <td>32k</td>\n",
       "      <td>0.42</td>\n",
       "      <td>NaN</td>\n",
       "      <td>NaN</td>\n",
       "      <td>/datadrive/videos/BVx0nR366sk-3b0933b1902d9a66...</td>\n",
       "      <td>-0.09</td>\n",
       "      <td>NaN</td>\n",
       "      <td>NaN</td>\n",
       "      <td>False</td>\n",
       "      <td>True</td>\n",
       "      <td>-0.09</td>\n",
       "      <td>BVx0nR366sk-3b0933b1902d9a66730d447258c425ec</td>\n",
       "      <td>webm</td>\n",
       "      <td>16560611413745a1b33748cad5cdb726.webm</td>\n",
       "      <td>BVx0nR366sk-3b0933b1902d9a66730d447258c425ec.webm</td>\n",
       "    </tr>\n",
       "    <tr>\n",
       "      <th>1</th>\n",
       "      <td>1</td>\n",
       "      <td>NaN</td>\n",
       "      <td>64k</td>\n",
       "      <td>0.24</td>\n",
       "      <td>NaN</td>\n",
       "      <td>NaN</td>\n",
       "      <td>/datadrive/videos/6Y1uTg7wCV8-b068dba553b7529e...</td>\n",
       "      <td>-0.05</td>\n",
       "      <td>logos/jazeera.png</td>\n",
       "      <td>6.0</td>\n",
       "      <td>False</td>\n",
       "      <td>True</td>\n",
       "      <td>NaN</td>\n",
       "      <td>6Y1uTg7wCV8-b068dba553b7529eb2c2c4727c47fed9</td>\n",
       "      <td>webm</td>\n",
       "      <td>4fe31156621142de9be93e3c6a4a8bd9.webm</td>\n",
       "      <td>6Y1uTg7wCV8-b068dba553b7529eb2c2c4727c47fed9.webm</td>\n",
       "    </tr>\n",
       "    <tr>\n",
       "      <th>2</th>\n",
       "      <td>2</td>\n",
       "      <td>False</td>\n",
       "      <td>NaN</td>\n",
       "      <td>NaN</td>\n",
       "      <td>NaN</td>\n",
       "      <td>NaN</td>\n",
       "      <td>/datadrive/videos/VuW-M9TB7tM-73472a9187f950d4...</td>\n",
       "      <td>-0.12</td>\n",
       "      <td>logos/fox.png</td>\n",
       "      <td>2.0</td>\n",
       "      <td>False</td>\n",
       "      <td>False</td>\n",
       "      <td>NaN</td>\n",
       "      <td>VuW-M9TB7tM-73472a9187f950d4812582d25154f1d4</td>\n",
       "      <td>mp4</td>\n",
       "      <td>49f397b693eb41a9b7c8a95b0147c6a0.mp4</td>\n",
       "      <td>VuW-M9TB7tM-73472a9187f950d4812582d25154f1d4.mp4</td>\n",
       "    </tr>\n",
       "    <tr>\n",
       "      <th>3</th>\n",
       "      <td>3</td>\n",
       "      <td>NaN</td>\n",
       "      <td>NaN</td>\n",
       "      <td>NaN</td>\n",
       "      <td>[0.11 0.15]</td>\n",
       "      <td>NaN</td>\n",
       "      <td>/datadrive/videos/gMz2bJykKaY-31b60bdf2a061902...</td>\n",
       "      <td>NaN</td>\n",
       "      <td>NaN</td>\n",
       "      <td>3.0</td>\n",
       "      <td>False</td>\n",
       "      <td>True</td>\n",
       "      <td>0.34</td>\n",
       "      <td>gMz2bJykKaY-31b60bdf2a061902a1c004eab2ced596</td>\n",
       "      <td>webm</td>\n",
       "      <td>e366f4367c2148c3bb4e88a6bf3b0835.webm</td>\n",
       "      <td>gMz2bJykKaY-31b60bdf2a061902a1c004eab2ced596.webm</td>\n",
       "    </tr>\n",
       "    <tr>\n",
       "      <th>4</th>\n",
       "      <td>4</td>\n",
       "      <td>NaN</td>\n",
       "      <td>NaN</td>\n",
       "      <td>NaN</td>\n",
       "      <td>[0.04 0.03]</td>\n",
       "      <td>NaN</td>\n",
       "      <td>/datadrive/videos/6QWIAsPOlxM-907ba6ac2932e487...</td>\n",
       "      <td>-0.19</td>\n",
       "      <td>logos/sbt.gif</td>\n",
       "      <td>3.0</td>\n",
       "      <td>False</td>\n",
       "      <td>False</td>\n",
       "      <td>0.31</td>\n",
       "      <td>6QWIAsPOlxM-907ba6ac2932e487c215c9b364d06e14</td>\n",
       "      <td>webm</td>\n",
       "      <td>7611fe4baab94392a82f5a8a28bdeba2.webm</td>\n",
       "      <td>6QWIAsPOlxM-907ba6ac2932e487c215c9b364d06e14.webm</td>\n",
       "    </tr>\n",
       "  </tbody>\n",
       "</table>\n",
       "</div>"
      ],
      "text/plain": [
       "   Unnamed: 0 banner bitrate  color_intensity         crop extension  \\\n",
       "0           0    NaN     32k             0.42          NaN       NaN   \n",
       "1           1    NaN     64k             0.24          NaN       NaN   \n",
       "2           2  False     NaN              NaN          NaN       NaN   \n",
       "3           3    NaN     NaN              NaN  [0.11 0.15]       NaN   \n",
       "4           4    NaN     NaN              NaN  [0.04 0.03]       NaN   \n",
       "\n",
       "                                           file_path  intensity  \\\n",
       "0  /datadrive/videos/BVx0nR366sk-3b0933b1902d9a66...      -0.09   \n",
       "1  /datadrive/videos/6Y1uTg7wCV8-b068dba553b7529e...      -0.05   \n",
       "2  /datadrive/videos/VuW-M9TB7tM-73472a9187f950d4...      -0.12   \n",
       "3  /datadrive/videos/gMz2bJykKaY-31b60bdf2a061902...        NaN   \n",
       "4  /datadrive/videos/6QWIAsPOlxM-907ba6ac2932e487...      -0.19   \n",
       "\n",
       "                logo  offset  shaky  shaky_after_logo  speed_change  \\\n",
       "0                NaN     NaN  False              True         -0.09   \n",
       "1  logos/jazeera.png     6.0  False              True           NaN   \n",
       "2      logos/fox.png     2.0  False             False           NaN   \n",
       "3                NaN     3.0  False              True          0.34   \n",
       "4      logos/sbt.gif     3.0  False             False          0.31   \n",
       "\n",
       "                                       filename original_extension  \\\n",
       "0  BVx0nR366sk-3b0933b1902d9a66730d447258c425ec               webm   \n",
       "1  6Y1uTg7wCV8-b068dba553b7529eb2c2c4727c47fed9               webm   \n",
       "2  VuW-M9TB7tM-73472a9187f950d4812582d25154f1d4                mp4   \n",
       "3  gMz2bJykKaY-31b60bdf2a061902a1c004eab2ced596               webm   \n",
       "4  6QWIAsPOlxM-907ba6ac2932e487c215c9b364d06e14               webm   \n",
       "\n",
       "                            new_filename  \\\n",
       "0  16560611413745a1b33748cad5cdb726.webm   \n",
       "1  4fe31156621142de9be93e3c6a4a8bd9.webm   \n",
       "2   49f397b693eb41a9b7c8a95b0147c6a0.mp4   \n",
       "3  e366f4367c2148c3bb4e88a6bf3b0835.webm   \n",
       "4  7611fe4baab94392a82f5a8a28bdeba2.webm   \n",
       "\n",
       "                                   original_basename  \n",
       "0  BVx0nR366sk-3b0933b1902d9a66730d447258c425ec.webm  \n",
       "1  6Y1uTg7wCV8-b068dba553b7529eb2c2c4727c47fed9.webm  \n",
       "2   VuW-M9TB7tM-73472a9187f950d4812582d25154f1d4.mp4  \n",
       "3  gMz2bJykKaY-31b60bdf2a061902a1c004eab2ced596.webm  \n",
       "4  6QWIAsPOlxM-907ba6ac2932e487c215c9b364d06e14.webm  "
      ]
     },
     "execution_count": 25,
     "metadata": {},
     "output_type": "execute_result"
    }
   ],
   "source": [
    "augmentation_manifesto.head()"
   ]
  },
  {
   "cell_type": "code",
   "execution_count": 26,
   "metadata": {},
   "outputs": [],
   "source": [
    "# Match Augmented to their counterparts\n",
    "a_o = dict(zip(augmentation_manifesto['new_filename'],augmentation_manifesto['original_basename']))\n",
    "vendorquery_df['original_basename_q'] = vendorquery_df['filename'].apply(lambda x:matching(x,a_o))\n",
    "vendorquery_df['original_basename_m'] = vendorquery_df['match_filename'].apply(lambda x:matching(x,a_o))"
   ]
  },
  {
   "cell_type": "code",
   "execution_count": 27,
   "metadata": {},
   "outputs": [],
   "source": [
    "per_a = vendorquery_df['original_basename_q'].value_counts()\n",
    "msk = per_a[per_a > 1].index.values"
   ]
  },
  {
   "cell_type": "code",
   "execution_count": 28,
   "metadata": {},
   "outputs": [
    {
     "data": {
      "text/plain": [
       "(1466, 6)"
      ]
     },
     "execution_count": 28,
     "metadata": {},
     "output_type": "execute_result"
    }
   ],
   "source": [
    "restricted_vendor = vendorquery_df.loc[vendorquery_df['original_basename_q'].isin(msk),:]\n",
    "# restricted = restricted.loc[restricted.isUnique == False,:]\n",
    "restricted_vendor.shape"
   ]
  },
  {
   "cell_type": "code",
   "execution_count": 29,
   "metadata": {},
   "outputs": [
    {
     "data": {
      "text/plain": [
       "0.9311050477489768"
      ]
     },
     "execution_count": 29,
     "metadata": {},
     "output_type": "execute_result"
    }
   ],
   "source": [
    "sum(restricted_vendor['original_basename_m'] == restricted_vendor['original_basename_q']) / restricted_vendor.shape[0]"
   ]
  },
  {
   "cell_type": "code",
   "execution_count": 30,
   "metadata": {},
   "outputs": [],
   "source": [
    "restricted_vendor.to_csv('vendor_results_2.csv')"
   ]
  },
  {
   "cell_type": "code",
   "execution_count": 31,
   "metadata": {},
   "outputs": [
    {
     "data": {
      "text/plain": [
       "2211"
      ]
     },
     "execution_count": 31,
     "metadata": {},
     "output_type": "execute_result"
    }
   ],
   "source": [
    "sum(vendorquery_df['original_basename_m'] == vendorquery_df['original_basename_q'])"
   ]
  },
  {
   "cell_type": "code",
   "execution_count": 32,
   "metadata": {},
   "outputs": [],
   "source": [
    "vendorquery_df.to_csv('full_vendor_results.csv')"
   ]
  },
  {
   "cell_type": "markdown",
   "metadata": {},
   "source": [
    "## Analysing Results from our model"
   ]
  },
  {
   "cell_type": "code",
   "execution_count": 33,
   "metadata": {},
   "outputs": [
    {
     "name": "stdout",
     "output_type": "stream",
     "text": [
      "(3843, 4096)\n"
     ]
    },
    {
     "data": {
      "text/plain": [
       "(3843, 500)"
      ]
     },
     "execution_count": 33,
     "metadata": {},
     "output_type": "execute_result"
    }
   ],
   "source": [
    "from winnow.feature_extraction import SimilarityModel\n",
    "\n",
    "\n",
    "sm = SimilarityModel()\n",
    "\n",
    "video_signatures = sm.predict(VIDEO_LEVEL_SAVE_FOLDER)\n",
    "# Save Signatires\n",
    "video_signatures.shape"
   ]
  },
  {
   "cell_type": "code",
   "execution_count": 34,
   "metadata": {},
   "outputs": [],
   "source": [
    "video_signatures = np.nan_to_num(video_signatures)"
   ]
  },
  {
   "cell_type": "code",
   "execution_count": 35,
   "metadata": {},
   "outputs": [],
   "source": [
    "filenames = [x.split('_vgg')[0].split('/')[-1] for x in  sm.index]"
   ]
  },
  {
   "cell_type": "code",
   "execution_count": 36,
   "metadata": {},
   "outputs": [],
   "source": [
    "in_q = vendorquery_df['filename'].apply(lambda x:x.split('.')[0])"
   ]
  },
  {
   "cell_type": "code",
   "execution_count": 37,
   "metadata": {},
   "outputs": [],
   "source": [
    "video_space = video_signatures[np.isin(filenames,in_q)]\n",
    "labels = np.array(filenames)[np.isin(filenames,in_q)]"
   ]
  },
  {
   "cell_type": "code",
   "execution_count": 38,
   "metadata": {},
   "outputs": [],
   "source": [
    "from sklearn.cluster import DBSCAN"
   ]
  },
  {
   "cell_type": "code",
   "execution_count": 39,
   "metadata": {},
   "outputs": [
    {
     "name": "stdout",
     "output_type": "stream",
     "text": [
      "[1.0, 1.0, 1.0, 1.0, 1.0, 1.0, 1.0, 1.0, 1.0, 0.9993178717598908, 0.9979536152796725, 0.9972714870395635, 0.9965893587994543, 0.995225102319236, 0.9945429740791268, 0.9945429740791268, 0.9945429740791268, 0.9938608458390177, 0.9918144611186903, 0.9890859481582538, 0.9884038199181446, 0.9884038199181446, 0.9863574351978172, 0.9822646657571623, 0.9795361527967258, 0.9774897680763983, 0.9720327421555253, 0.9686221009549796, 0.9638472032742156, 0.956343792633015, 0.9454297407912687, 0.9297407912687585, 0.9106412005457026, 0.902455661664393, 0.8888130968622101, 0.8697135061391542, 0.8533424283765347, 0.8369713506139154, 0.8185538881309686, 0.8028649386084584, 0.7803547066848567, 0.7564802182810368, 0.7285129604365621, 0.7025920873124147, 0.6691678035470668, 0.6439290586630286, 0.6091405184174625, 0.582537517053206, 0.5491132332878581, 0.5211459754433834]\n"
     ]
    }
   ],
   "source": [
    "distances = np.linspace(0.0001,0.3)\n",
    "results = []\n",
    "for d in distances:\n",
    "    \n",
    "    clusters = DBSCAN(metric='cosine',eps=d,min_samples=1).fit_predict(video_space)\n",
    "    model_results = pd.DataFrame({'filename':labels,'cluster':clusters})\n",
    "    filename_original = a_o = dict(zip(augmentation_manifesto['new_filename'].apply(lambda x:x.split('.')[0]),augmentation_manifesto['original_basename']))\n",
    "    filename_original = a_o = dict(zip(augmentation_manifesto['new_filename'].apply(lambda x:x.split('.')[0]),augmentation_manifesto['original_basename']))\n",
    "    model_results['original_basename_q'] = model_results['filename'].apply(lambda x:matching(x,filename_original))\n",
    "    model_results['original_basename_q'] = model_results['original_basename_q'].apply(lambda x:x.split('.')[0])\n",
    "    model_results ['original_basename_m'] = 'NA'\n",
    "    for c in model_results.cluster.unique():\n",
    "\n",
    "        msk = model_results.cluster == c\n",
    "        prevailing = model_results.loc[msk,:].original_basename_q.value_counts().index.values[0]\n",
    "        model_results.loc[msk,'original_basename_m'] = prevailing\n",
    "\n",
    "\n",
    "    per_a = model_results['original_basename_q'].value_counts()\n",
    "    msk = per_a[per_a > 1].index.values\n",
    "    restricted = model_results.loc[model_results['original_basename_q'].isin(msk),:]   \n",
    "    result = sum(restricted['original_basename_m'] == restricted['original_basename_q']) / restricted.shape[0]   \n",
    "    results.append(result)\n",
    "    \n",
    "print(results)\n",
    "    "
   ]
  },
  {
   "cell_type": "code",
   "execution_count": 40,
   "metadata": {},
   "outputs": [
    {
     "data": {
      "text/plain": [
       "0"
      ]
     },
     "execution_count": 40,
     "metadata": {},
     "output_type": "execute_result"
    }
   ],
   "source": [
    "np.argmax(results)"
   ]
  },
  {
   "cell_type": "code",
   "execution_count": 41,
   "metadata": {},
   "outputs": [
    {
     "ename": "KeyboardInterrupt",
     "evalue": "",
     "output_type": "error",
     "traceback": [
      "\u001b[0;31m---------------------------------------------------------------------------\u001b[0m",
      "\u001b[0;31mKeyboardInterrupt\u001b[0m                         Traceback (most recent call last)",
      "\u001b[0;32m<ipython-input-41-aaa986440586>\u001b[0m in \u001b[0;36m<module>\u001b[0;34m()\u001b[0m\n\u001b[1;32m     18\u001b[0m             \u001b[0mmodel_results\u001b[0m\u001b[0;34m.\u001b[0m\u001b[0mloc\u001b[0m\u001b[0;34m[\u001b[0m\u001b[0mmsk\u001b[0m\u001b[0;34m,\u001b[0m\u001b[0;34m'original_basename_m'\u001b[0m\u001b[0;34m]\u001b[0m \u001b[0;34m=\u001b[0m \u001b[0mprevailing\u001b[0m\u001b[0;34m\u001b[0m\u001b[0;34m\u001b[0m\u001b[0m\n\u001b[1;32m     19\u001b[0m         \u001b[0;32melse\u001b[0m\u001b[0;34m:\u001b[0m\u001b[0;34m\u001b[0m\u001b[0;34m\u001b[0m\u001b[0m\n\u001b[0;32m---> 20\u001b[0;31m             \u001b[0mmodel_results\u001b[0m\u001b[0;34m.\u001b[0m\u001b[0mloc\u001b[0m\u001b[0;34m[\u001b[0m\u001b[0mmsk\u001b[0m\u001b[0;34m,\u001b[0m\u001b[0;34m'original_basename_m'\u001b[0m\u001b[0;34m]\u001b[0m \u001b[0;34m=\u001b[0m \u001b[0;34m'na'\u001b[0m\u001b[0;34m\u001b[0m\u001b[0;34m\u001b[0m\u001b[0m\n\u001b[0m\u001b[1;32m     21\u001b[0m \u001b[0;34m\u001b[0m\u001b[0m\n\u001b[1;32m     22\u001b[0m \u001b[0;34m\u001b[0m\u001b[0m\n",
      "\u001b[0;32m/home/felipeb/.conda/envs/winnow/lib/python3.6/site-packages/pandas/core/indexing.py\u001b[0m in \u001b[0;36m__setitem__\u001b[0;34m(self, key, value)\u001b[0m\n\u001b[1;32m    186\u001b[0m         \u001b[0;32melse\u001b[0m\u001b[0;34m:\u001b[0m\u001b[0;34m\u001b[0m\u001b[0;34m\u001b[0m\u001b[0m\n\u001b[1;32m    187\u001b[0m             \u001b[0mkey\u001b[0m \u001b[0;34m=\u001b[0m \u001b[0mcom\u001b[0m\u001b[0;34m.\u001b[0m\u001b[0m_apply_if_callable\u001b[0m\u001b[0;34m(\u001b[0m\u001b[0mkey\u001b[0m\u001b[0;34m,\u001b[0m \u001b[0mself\u001b[0m\u001b[0;34m.\u001b[0m\u001b[0mobj\u001b[0m\u001b[0;34m)\u001b[0m\u001b[0;34m\u001b[0m\u001b[0;34m\u001b[0m\u001b[0m\n\u001b[0;32m--> 188\u001b[0;31m         \u001b[0mindexer\u001b[0m \u001b[0;34m=\u001b[0m \u001b[0mself\u001b[0m\u001b[0;34m.\u001b[0m\u001b[0m_get_setitem_indexer\u001b[0m\u001b[0;34m(\u001b[0m\u001b[0mkey\u001b[0m\u001b[0;34m)\u001b[0m\u001b[0;34m\u001b[0m\u001b[0;34m\u001b[0m\u001b[0m\n\u001b[0m\u001b[1;32m    189\u001b[0m         \u001b[0mself\u001b[0m\u001b[0;34m.\u001b[0m\u001b[0m_setitem_with_indexer\u001b[0m\u001b[0;34m(\u001b[0m\u001b[0mindexer\u001b[0m\u001b[0;34m,\u001b[0m \u001b[0mvalue\u001b[0m\u001b[0;34m)\u001b[0m\u001b[0;34m\u001b[0m\u001b[0;34m\u001b[0m\u001b[0m\n\u001b[1;32m    190\u001b[0m \u001b[0;34m\u001b[0m\u001b[0m\n",
      "\u001b[0;32m/home/felipeb/.conda/envs/winnow/lib/python3.6/site-packages/pandas/core/indexing.py\u001b[0m in \u001b[0;36m_get_setitem_indexer\u001b[0;34m(self, key)\u001b[0m\n\u001b[1;32m    164\u001b[0m         \u001b[0;32mif\u001b[0m \u001b[0misinstance\u001b[0m\u001b[0;34m(\u001b[0m\u001b[0mkey\u001b[0m\u001b[0;34m,\u001b[0m \u001b[0mtuple\u001b[0m\u001b[0;34m)\u001b[0m\u001b[0;34m:\u001b[0m\u001b[0;34m\u001b[0m\u001b[0;34m\u001b[0m\u001b[0m\n\u001b[1;32m    165\u001b[0m             \u001b[0;32mtry\u001b[0m\u001b[0;34m:\u001b[0m\u001b[0;34m\u001b[0m\u001b[0;34m\u001b[0m\u001b[0m\n\u001b[0;32m--> 166\u001b[0;31m                 \u001b[0;32mreturn\u001b[0m \u001b[0mself\u001b[0m\u001b[0;34m.\u001b[0m\u001b[0m_convert_tuple\u001b[0m\u001b[0;34m(\u001b[0m\u001b[0mkey\u001b[0m\u001b[0;34m,\u001b[0m \u001b[0mis_setter\u001b[0m\u001b[0;34m=\u001b[0m\u001b[0;32mTrue\u001b[0m\u001b[0;34m)\u001b[0m\u001b[0;34m\u001b[0m\u001b[0;34m\u001b[0m\u001b[0m\n\u001b[0m\u001b[1;32m    167\u001b[0m             \u001b[0;32mexcept\u001b[0m \u001b[0mIndexingError\u001b[0m\u001b[0;34m:\u001b[0m\u001b[0;34m\u001b[0m\u001b[0;34m\u001b[0m\u001b[0m\n\u001b[1;32m    168\u001b[0m                 \u001b[0;32mpass\u001b[0m\u001b[0;34m\u001b[0m\u001b[0;34m\u001b[0m\u001b[0m\n",
      "\u001b[0;32m/home/felipeb/.conda/envs/winnow/lib/python3.6/site-packages/pandas/core/indexing.py\u001b[0m in \u001b[0;36m_convert_tuple\u001b[0;34m(self, key, is_setter)\u001b[0m\n\u001b[1;32m    245\u001b[0m                 \u001b[0;32mif\u001b[0m \u001b[0mi\u001b[0m \u001b[0;34m>=\u001b[0m \u001b[0mself\u001b[0m\u001b[0;34m.\u001b[0m\u001b[0mobj\u001b[0m\u001b[0;34m.\u001b[0m\u001b[0mndim\u001b[0m\u001b[0;34m:\u001b[0m\u001b[0;34m\u001b[0m\u001b[0;34m\u001b[0m\u001b[0m\n\u001b[1;32m    246\u001b[0m                     \u001b[0;32mraise\u001b[0m \u001b[0mIndexingError\u001b[0m\u001b[0;34m(\u001b[0m\u001b[0;34m'Too many indexers'\u001b[0m\u001b[0;34m)\u001b[0m\u001b[0;34m\u001b[0m\u001b[0;34m\u001b[0m\u001b[0m\n\u001b[0;32m--> 247\u001b[0;31m                 \u001b[0midx\u001b[0m \u001b[0;34m=\u001b[0m \u001b[0mself\u001b[0m\u001b[0;34m.\u001b[0m\u001b[0m_convert_to_indexer\u001b[0m\u001b[0;34m(\u001b[0m\u001b[0mk\u001b[0m\u001b[0;34m,\u001b[0m \u001b[0maxis\u001b[0m\u001b[0;34m=\u001b[0m\u001b[0mi\u001b[0m\u001b[0;34m,\u001b[0m \u001b[0mis_setter\u001b[0m\u001b[0;34m=\u001b[0m\u001b[0mis_setter\u001b[0m\u001b[0;34m)\u001b[0m\u001b[0;34m\u001b[0m\u001b[0;34m\u001b[0m\u001b[0m\n\u001b[0m\u001b[1;32m    248\u001b[0m                 \u001b[0mkeyidx\u001b[0m\u001b[0;34m.\u001b[0m\u001b[0mappend\u001b[0m\u001b[0;34m(\u001b[0m\u001b[0midx\u001b[0m\u001b[0;34m)\u001b[0m\u001b[0;34m\u001b[0m\u001b[0;34m\u001b[0m\u001b[0m\n\u001b[1;32m    249\u001b[0m         \u001b[0;32mreturn\u001b[0m \u001b[0mtuple\u001b[0m\u001b[0;34m(\u001b[0m\u001b[0mkeyidx\u001b[0m\u001b[0;34m)\u001b[0m\u001b[0;34m\u001b[0m\u001b[0;34m\u001b[0m\u001b[0m\n",
      "\u001b[0;32m/home/felipeb/.conda/envs/winnow/lib/python3.6/site-packages/pandas/core/indexing.py\u001b[0m in \u001b[0;36m_convert_to_indexer\u001b[0;34m(self, obj, axis, is_setter)\u001b[0m\n\u001b[1;32m   1261\u001b[0m         \u001b[0;31m# if we are a label return me\u001b[0m\u001b[0;34m\u001b[0m\u001b[0;34m\u001b[0m\u001b[0;34m\u001b[0m\u001b[0m\n\u001b[1;32m   1262\u001b[0m         \u001b[0;32mtry\u001b[0m\u001b[0;34m:\u001b[0m\u001b[0;34m\u001b[0m\u001b[0;34m\u001b[0m\u001b[0m\n\u001b[0;32m-> 1263\u001b[0;31m             \u001b[0;32mreturn\u001b[0m \u001b[0mlabels\u001b[0m\u001b[0;34m.\u001b[0m\u001b[0mget_loc\u001b[0m\u001b[0;34m(\u001b[0m\u001b[0mobj\u001b[0m\u001b[0;34m)\u001b[0m\u001b[0;34m\u001b[0m\u001b[0;34m\u001b[0m\u001b[0m\n\u001b[0m\u001b[1;32m   1264\u001b[0m         \u001b[0;32mexcept\u001b[0m \u001b[0mLookupError\u001b[0m\u001b[0;34m:\u001b[0m\u001b[0;34m\u001b[0m\u001b[0;34m\u001b[0m\u001b[0m\n\u001b[1;32m   1265\u001b[0m             \u001b[0;32mif\u001b[0m \u001b[0misinstance\u001b[0m\u001b[0;34m(\u001b[0m\u001b[0mobj\u001b[0m\u001b[0;34m,\u001b[0m \u001b[0mtuple\u001b[0m\u001b[0;34m)\u001b[0m \u001b[0;32mand\u001b[0m \u001b[0misinstance\u001b[0m\u001b[0;34m(\u001b[0m\u001b[0mlabels\u001b[0m\u001b[0;34m,\u001b[0m \u001b[0mMultiIndex\u001b[0m\u001b[0;34m)\u001b[0m\u001b[0;34m:\u001b[0m\u001b[0;34m\u001b[0m\u001b[0;34m\u001b[0m\u001b[0m\n",
      "\u001b[0;32m/home/felipeb/.conda/envs/winnow/lib/python3.6/site-packages/pandas/core/indexes/base.py\u001b[0m in \u001b[0;36mget_loc\u001b[0;34m(self, key, method, tolerance)\u001b[0m\n\u001b[1;32m   3076\u001b[0m                                  'backfill or nearest lookups')\n\u001b[1;32m   3077\u001b[0m             \u001b[0;32mtry\u001b[0m\u001b[0;34m:\u001b[0m\u001b[0;34m\u001b[0m\u001b[0;34m\u001b[0m\u001b[0m\n\u001b[0;32m-> 3078\u001b[0;31m                 \u001b[0;32mreturn\u001b[0m \u001b[0mself\u001b[0m\u001b[0;34m.\u001b[0m\u001b[0m_engine\u001b[0m\u001b[0;34m.\u001b[0m\u001b[0mget_loc\u001b[0m\u001b[0;34m(\u001b[0m\u001b[0mkey\u001b[0m\u001b[0;34m)\u001b[0m\u001b[0;34m\u001b[0m\u001b[0;34m\u001b[0m\u001b[0m\n\u001b[0m\u001b[1;32m   3079\u001b[0m             \u001b[0;32mexcept\u001b[0m \u001b[0mKeyError\u001b[0m\u001b[0;34m:\u001b[0m\u001b[0;34m\u001b[0m\u001b[0;34m\u001b[0m\u001b[0m\n\u001b[1;32m   3080\u001b[0m                 \u001b[0;32mreturn\u001b[0m \u001b[0mself\u001b[0m\u001b[0;34m.\u001b[0m\u001b[0m_engine\u001b[0m\u001b[0;34m.\u001b[0m\u001b[0mget_loc\u001b[0m\u001b[0;34m(\u001b[0m\u001b[0mself\u001b[0m\u001b[0;34m.\u001b[0m\u001b[0m_maybe_cast_indexer\u001b[0m\u001b[0;34m(\u001b[0m\u001b[0mkey\u001b[0m\u001b[0;34m)\u001b[0m\u001b[0;34m)\u001b[0m\u001b[0;34m\u001b[0m\u001b[0;34m\u001b[0m\u001b[0m\n",
      "\u001b[0;32mpandas/_libs/index.pyx\u001b[0m in \u001b[0;36mpandas._libs.index.IndexEngine.get_loc\u001b[0;34m()\u001b[0m\n",
      "\u001b[0;32mpandas/_libs/index.pyx\u001b[0m in \u001b[0;36mpandas._libs.index.IndexEngine.get_loc\u001b[0;34m()\u001b[0m\n",
      "\u001b[0;32m/home/felipeb/.conda/envs/winnow/lib/python3.6/site-packages/pandas/core/base.py\u001b[0m in \u001b[0;36m__str__\u001b[0;34m(self)\u001b[0m\n\u001b[1;32m     59\u001b[0m \u001b[0;34m\u001b[0m\u001b[0m\n\u001b[1;32m     60\u001b[0m         \u001b[0;32mif\u001b[0m \u001b[0mcompat\u001b[0m\u001b[0;34m.\u001b[0m\u001b[0mPY3\u001b[0m\u001b[0;34m:\u001b[0m\u001b[0;34m\u001b[0m\u001b[0;34m\u001b[0m\u001b[0m\n\u001b[0;32m---> 61\u001b[0;31m             \u001b[0;32mreturn\u001b[0m \u001b[0mself\u001b[0m\u001b[0;34m.\u001b[0m\u001b[0m__unicode__\u001b[0m\u001b[0;34m(\u001b[0m\u001b[0;34m)\u001b[0m\u001b[0;34m\u001b[0m\u001b[0;34m\u001b[0m\u001b[0m\n\u001b[0m\u001b[1;32m     62\u001b[0m         \u001b[0;32mreturn\u001b[0m \u001b[0mself\u001b[0m\u001b[0;34m.\u001b[0m\u001b[0m__bytes__\u001b[0m\u001b[0;34m(\u001b[0m\u001b[0;34m)\u001b[0m\u001b[0;34m\u001b[0m\u001b[0;34m\u001b[0m\u001b[0m\n\u001b[1;32m     63\u001b[0m \u001b[0;34m\u001b[0m\u001b[0m\n",
      "\u001b[0;32m/home/felipeb/.conda/envs/winnow/lib/python3.6/site-packages/pandas/core/series.py\u001b[0m in \u001b[0;36m__unicode__\u001b[0;34m(self)\u001b[0m\n\u001b[1;32m   1233\u001b[0m \u001b[0;34m\u001b[0m\u001b[0m\n\u001b[1;32m   1234\u001b[0m         self.to_string(buf=buf, name=self.name, dtype=self.dtype,\n\u001b[0;32m-> 1235\u001b[0;31m                        max_rows=max_rows, length=show_dimensions)\n\u001b[0m\u001b[1;32m   1236\u001b[0m         \u001b[0mresult\u001b[0m \u001b[0;34m=\u001b[0m \u001b[0mbuf\u001b[0m\u001b[0;34m.\u001b[0m\u001b[0mgetvalue\u001b[0m\u001b[0;34m(\u001b[0m\u001b[0;34m)\u001b[0m\u001b[0;34m\u001b[0m\u001b[0;34m\u001b[0m\u001b[0m\n\u001b[1;32m   1237\u001b[0m \u001b[0;34m\u001b[0m\u001b[0m\n",
      "\u001b[0;32m/home/felipeb/.conda/envs/winnow/lib/python3.6/site-packages/pandas/core/series.py\u001b[0m in \u001b[0;36mto_string\u001b[0;34m(self, buf, na_rep, float_format, header, index, length, dtype, name, max_rows)\u001b[0m\n\u001b[1;32m   1276\u001b[0m                                         \u001b[0mdtype\u001b[0m\u001b[0;34m=\u001b[0m\u001b[0mdtype\u001b[0m\u001b[0;34m,\u001b[0m \u001b[0mna_rep\u001b[0m\u001b[0;34m=\u001b[0m\u001b[0mna_rep\u001b[0m\u001b[0;34m,\u001b[0m\u001b[0;34m\u001b[0m\u001b[0;34m\u001b[0m\u001b[0m\n\u001b[1;32m   1277\u001b[0m                                         \u001b[0mfloat_format\u001b[0m\u001b[0;34m=\u001b[0m\u001b[0mfloat_format\u001b[0m\u001b[0;34m,\u001b[0m\u001b[0;34m\u001b[0m\u001b[0;34m\u001b[0m\u001b[0m\n\u001b[0;32m-> 1278\u001b[0;31m                                         max_rows=max_rows)\n\u001b[0m\u001b[1;32m   1279\u001b[0m         \u001b[0mresult\u001b[0m \u001b[0;34m=\u001b[0m \u001b[0mformatter\u001b[0m\u001b[0;34m.\u001b[0m\u001b[0mto_string\u001b[0m\u001b[0;34m(\u001b[0m\u001b[0;34m)\u001b[0m\u001b[0;34m\u001b[0m\u001b[0;34m\u001b[0m\u001b[0m\n\u001b[1;32m   1280\u001b[0m \u001b[0;34m\u001b[0m\u001b[0m\n",
      "\u001b[0;32m/home/felipeb/.conda/envs/winnow/lib/python3.6/site-packages/pandas/io/formats/format.py\u001b[0m in \u001b[0;36m__init__\u001b[0;34m(self, series, buf, length, header, index, na_rep, name, float_format, dtype, max_rows)\u001b[0m\n\u001b[1;32m    185\u001b[0m         \u001b[0mself\u001b[0m\u001b[0;34m.\u001b[0m\u001b[0madj\u001b[0m \u001b[0;34m=\u001b[0m \u001b[0m_get_adjustment\u001b[0m\u001b[0;34m(\u001b[0m\u001b[0;34m)\u001b[0m\u001b[0;34m\u001b[0m\u001b[0;34m\u001b[0m\u001b[0m\n\u001b[1;32m    186\u001b[0m \u001b[0;34m\u001b[0m\u001b[0m\n\u001b[0;32m--> 187\u001b[0;31m         \u001b[0mself\u001b[0m\u001b[0;34m.\u001b[0m\u001b[0m_chk_truncate\u001b[0m\u001b[0;34m(\u001b[0m\u001b[0;34m)\u001b[0m\u001b[0;34m\u001b[0m\u001b[0;34m\u001b[0m\u001b[0m\n\u001b[0m\u001b[1;32m    188\u001b[0m \u001b[0;34m\u001b[0m\u001b[0m\n\u001b[1;32m    189\u001b[0m     \u001b[0;32mdef\u001b[0m \u001b[0m_chk_truncate\u001b[0m\u001b[0;34m(\u001b[0m\u001b[0mself\u001b[0m\u001b[0;34m)\u001b[0m\u001b[0;34m:\u001b[0m\u001b[0;34m\u001b[0m\u001b[0;34m\u001b[0m\u001b[0m\n",
      "\u001b[0;32m/home/felipeb/.conda/envs/winnow/lib/python3.6/site-packages/pandas/io/formats/format.py\u001b[0m in \u001b[0;36m_chk_truncate\u001b[0;34m(self)\u001b[0m\n\u001b[1;32m    199\u001b[0m                 \u001b[0mrow_num\u001b[0m \u001b[0;34m=\u001b[0m \u001b[0mmax_rows\u001b[0m \u001b[0;34m//\u001b[0m \u001b[0;36m2\u001b[0m\u001b[0;34m\u001b[0m\u001b[0;34m\u001b[0m\u001b[0m\n\u001b[1;32m    200\u001b[0m                 series = concat((series.iloc[:row_num],\n\u001b[0;32m--> 201\u001b[0;31m                                  series.iloc[-row_num:]))\n\u001b[0m\u001b[1;32m    202\u001b[0m             \u001b[0mself\u001b[0m\u001b[0;34m.\u001b[0m\u001b[0mtr_row_num\u001b[0m \u001b[0;34m=\u001b[0m \u001b[0mrow_num\u001b[0m\u001b[0;34m\u001b[0m\u001b[0;34m\u001b[0m\u001b[0m\n\u001b[1;32m    203\u001b[0m         \u001b[0mself\u001b[0m\u001b[0;34m.\u001b[0m\u001b[0mtr_series\u001b[0m \u001b[0;34m=\u001b[0m \u001b[0mseries\u001b[0m\u001b[0;34m\u001b[0m\u001b[0;34m\u001b[0m\u001b[0m\n",
      "\u001b[0;32m/home/felipeb/.conda/envs/winnow/lib/python3.6/site-packages/pandas/core/reshape/concat.py\u001b[0m in \u001b[0;36mconcat\u001b[0;34m(objs, axis, join, join_axes, ignore_index, keys, levels, names, verify_integrity, sort, copy)\u001b[0m\n\u001b[1;32m    223\u001b[0m                        \u001b[0mkeys\u001b[0m\u001b[0;34m=\u001b[0m\u001b[0mkeys\u001b[0m\u001b[0;34m,\u001b[0m \u001b[0mlevels\u001b[0m\u001b[0;34m=\u001b[0m\u001b[0mlevels\u001b[0m\u001b[0;34m,\u001b[0m \u001b[0mnames\u001b[0m\u001b[0;34m=\u001b[0m\u001b[0mnames\u001b[0m\u001b[0;34m,\u001b[0m\u001b[0;34m\u001b[0m\u001b[0;34m\u001b[0m\u001b[0m\n\u001b[1;32m    224\u001b[0m                        \u001b[0mverify_integrity\u001b[0m\u001b[0;34m=\u001b[0m\u001b[0mverify_integrity\u001b[0m\u001b[0;34m,\u001b[0m\u001b[0;34m\u001b[0m\u001b[0;34m\u001b[0m\u001b[0m\n\u001b[0;32m--> 225\u001b[0;31m                        copy=copy, sort=sort)\n\u001b[0m\u001b[1;32m    226\u001b[0m     \u001b[0;32mreturn\u001b[0m \u001b[0mop\u001b[0m\u001b[0;34m.\u001b[0m\u001b[0mget_result\u001b[0m\u001b[0;34m(\u001b[0m\u001b[0;34m)\u001b[0m\u001b[0;34m\u001b[0m\u001b[0;34m\u001b[0m\u001b[0m\n\u001b[1;32m    227\u001b[0m \u001b[0;34m\u001b[0m\u001b[0m\n",
      "\u001b[0;32m/home/felipeb/.conda/envs/winnow/lib/python3.6/site-packages/pandas/core/reshape/concat.py\u001b[0m in \u001b[0;36m__init__\u001b[0;34m(self, objs, axis, join, join_axes, keys, levels, names, ignore_index, verify_integrity, copy, sort)\u001b[0m\n\u001b[1;32m    320\u001b[0m         \u001b[0;31m# Standardize axis parameter to int\u001b[0m\u001b[0;34m\u001b[0m\u001b[0;34m\u001b[0m\u001b[0;34m\u001b[0m\u001b[0m\n\u001b[1;32m    321\u001b[0m         \u001b[0;32mif\u001b[0m \u001b[0misinstance\u001b[0m\u001b[0;34m(\u001b[0m\u001b[0msample\u001b[0m\u001b[0;34m,\u001b[0m \u001b[0mSeries\u001b[0m\u001b[0;34m)\u001b[0m\u001b[0;34m:\u001b[0m\u001b[0;34m\u001b[0m\u001b[0;34m\u001b[0m\u001b[0m\n\u001b[0;32m--> 322\u001b[0;31m             \u001b[0maxis\u001b[0m \u001b[0;34m=\u001b[0m \u001b[0mDataFrame\u001b[0m\u001b[0;34m(\u001b[0m\u001b[0;34m)\u001b[0m\u001b[0;34m.\u001b[0m\u001b[0m_get_axis_number\u001b[0m\u001b[0;34m(\u001b[0m\u001b[0maxis\u001b[0m\u001b[0;34m)\u001b[0m\u001b[0;34m\u001b[0m\u001b[0;34m\u001b[0m\u001b[0m\n\u001b[0m\u001b[1;32m    323\u001b[0m         \u001b[0;32melse\u001b[0m\u001b[0;34m:\u001b[0m\u001b[0;34m\u001b[0m\u001b[0;34m\u001b[0m\u001b[0m\n\u001b[1;32m    324\u001b[0m             \u001b[0maxis\u001b[0m \u001b[0;34m=\u001b[0m \u001b[0msample\u001b[0m\u001b[0;34m.\u001b[0m\u001b[0m_get_axis_number\u001b[0m\u001b[0;34m(\u001b[0m\u001b[0maxis\u001b[0m\u001b[0;34m)\u001b[0m\u001b[0;34m\u001b[0m\u001b[0;34m\u001b[0m\u001b[0m\n",
      "\u001b[0;32m/home/felipeb/.conda/envs/winnow/lib/python3.6/site-packages/pandas/core/frame.py\u001b[0m in \u001b[0;36m__init__\u001b[0;34m(self, data, index, columns, dtype, copy)\u001b[0m\n\u001b[1;32m    346\u001b[0m                                  dtype=dtype, copy=copy)\n\u001b[1;32m    347\u001b[0m         \u001b[0;32melif\u001b[0m \u001b[0misinstance\u001b[0m\u001b[0;34m(\u001b[0m\u001b[0mdata\u001b[0m\u001b[0;34m,\u001b[0m \u001b[0mdict\u001b[0m\u001b[0;34m)\u001b[0m\u001b[0;34m:\u001b[0m\u001b[0;34m\u001b[0m\u001b[0;34m\u001b[0m\u001b[0m\n\u001b[0;32m--> 348\u001b[0;31m             \u001b[0mmgr\u001b[0m \u001b[0;34m=\u001b[0m \u001b[0mself\u001b[0m\u001b[0;34m.\u001b[0m\u001b[0m_init_dict\u001b[0m\u001b[0;34m(\u001b[0m\u001b[0mdata\u001b[0m\u001b[0;34m,\u001b[0m \u001b[0mindex\u001b[0m\u001b[0;34m,\u001b[0m \u001b[0mcolumns\u001b[0m\u001b[0;34m,\u001b[0m \u001b[0mdtype\u001b[0m\u001b[0;34m=\u001b[0m\u001b[0mdtype\u001b[0m\u001b[0;34m)\u001b[0m\u001b[0;34m\u001b[0m\u001b[0;34m\u001b[0m\u001b[0m\n\u001b[0m\u001b[1;32m    349\u001b[0m         \u001b[0;32melif\u001b[0m \u001b[0misinstance\u001b[0m\u001b[0;34m(\u001b[0m\u001b[0mdata\u001b[0m\u001b[0;34m,\u001b[0m \u001b[0mma\u001b[0m\u001b[0;34m.\u001b[0m\u001b[0mMaskedArray\u001b[0m\u001b[0;34m)\u001b[0m\u001b[0;34m:\u001b[0m\u001b[0;34m\u001b[0m\u001b[0;34m\u001b[0m\u001b[0m\n\u001b[1;32m    350\u001b[0m             \u001b[0;32mimport\u001b[0m \u001b[0mnumpy\u001b[0m\u001b[0;34m.\u001b[0m\u001b[0mma\u001b[0m\u001b[0;34m.\u001b[0m\u001b[0mmrecords\u001b[0m \u001b[0;32mas\u001b[0m \u001b[0mmrecords\u001b[0m\u001b[0;34m\u001b[0m\u001b[0;34m\u001b[0m\u001b[0m\n",
      "\u001b[0;32m/home/felipeb/.conda/envs/winnow/lib/python3.6/site-packages/pandas/core/frame.py\u001b[0m in \u001b[0;36m_init_dict\u001b[0;34m(self, data, index, columns, dtype)\u001b[0m\n\u001b[1;32m    454\u001b[0m         \u001b[0;32melse\u001b[0m\u001b[0;34m:\u001b[0m\u001b[0;34m\u001b[0m\u001b[0;34m\u001b[0m\u001b[0m\n\u001b[1;32m    455\u001b[0m             \u001b[0mkeys\u001b[0m \u001b[0;34m=\u001b[0m \u001b[0mcom\u001b[0m\u001b[0;34m.\u001b[0m\u001b[0m_dict_keys_to_ordered_list\u001b[0m\u001b[0;34m(\u001b[0m\u001b[0mdata\u001b[0m\u001b[0;34m)\u001b[0m\u001b[0;34m\u001b[0m\u001b[0;34m\u001b[0m\u001b[0m\n\u001b[0;32m--> 456\u001b[0;31m             \u001b[0mcolumns\u001b[0m \u001b[0;34m=\u001b[0m \u001b[0mdata_names\u001b[0m \u001b[0;34m=\u001b[0m \u001b[0mIndex\u001b[0m\u001b[0;34m(\u001b[0m\u001b[0mkeys\u001b[0m\u001b[0;34m)\u001b[0m\u001b[0;34m\u001b[0m\u001b[0;34m\u001b[0m\u001b[0m\n\u001b[0m\u001b[1;32m    457\u001b[0m             \u001b[0marrays\u001b[0m \u001b[0;34m=\u001b[0m \u001b[0;34m[\u001b[0m\u001b[0mdata\u001b[0m\u001b[0;34m[\u001b[0m\u001b[0mk\u001b[0m\u001b[0;34m]\u001b[0m \u001b[0;32mfor\u001b[0m \u001b[0mk\u001b[0m \u001b[0;32min\u001b[0m \u001b[0mkeys\u001b[0m\u001b[0;34m]\u001b[0m\u001b[0;34m\u001b[0m\u001b[0;34m\u001b[0m\u001b[0m\n\u001b[1;32m    458\u001b[0m \u001b[0;34m\u001b[0m\u001b[0m\n",
      "\u001b[0;32m/home/felipeb/.conda/envs/winnow/lib/python3.6/site-packages/pandas/core/indexes/base.py\u001b[0m in \u001b[0;36m__new__\u001b[0;34m(cls, data, dtype, copy, name, fastpath, tupleize_cols, **kwargs)\u001b[0m\n\u001b[1;32m    450\u001b[0m             \u001b[0;31m# other iterable of some kind\u001b[0m\u001b[0;34m\u001b[0m\u001b[0;34m\u001b[0m\u001b[0;34m\u001b[0m\u001b[0m\n\u001b[1;32m    451\u001b[0m             \u001b[0msubarr\u001b[0m \u001b[0;34m=\u001b[0m \u001b[0mcom\u001b[0m\u001b[0;34m.\u001b[0m\u001b[0m_asarray_tuplesafe\u001b[0m\u001b[0;34m(\u001b[0m\u001b[0mdata\u001b[0m\u001b[0;34m,\u001b[0m \u001b[0mdtype\u001b[0m\u001b[0;34m=\u001b[0m\u001b[0mobject\u001b[0m\u001b[0;34m)\u001b[0m\u001b[0;34m\u001b[0m\u001b[0;34m\u001b[0m\u001b[0m\n\u001b[0;32m--> 452\u001b[0;31m             \u001b[0;32mreturn\u001b[0m \u001b[0mIndex\u001b[0m\u001b[0;34m(\u001b[0m\u001b[0msubarr\u001b[0m\u001b[0;34m,\u001b[0m \u001b[0mdtype\u001b[0m\u001b[0;34m=\u001b[0m\u001b[0mdtype\u001b[0m\u001b[0;34m,\u001b[0m \u001b[0mcopy\u001b[0m\u001b[0;34m=\u001b[0m\u001b[0mcopy\u001b[0m\u001b[0;34m,\u001b[0m \u001b[0mname\u001b[0m\u001b[0;34m=\u001b[0m\u001b[0mname\u001b[0m\u001b[0;34m,\u001b[0m \u001b[0;34m**\u001b[0m\u001b[0mkwargs\u001b[0m\u001b[0;34m)\u001b[0m\u001b[0;34m\u001b[0m\u001b[0;34m\u001b[0m\u001b[0m\n\u001b[0m\u001b[1;32m    453\u001b[0m \u001b[0;34m\u001b[0m\u001b[0m\n\u001b[1;32m    454\u001b[0m     \"\"\"\n",
      "\u001b[0;32m/home/felipeb/.conda/envs/winnow/lib/python3.6/site-packages/pandas/core/indexes/base.py\u001b[0m in \u001b[0;36m__new__\u001b[0;34m(cls, data, dtype, copy, name, fastpath, tupleize_cols, **kwargs)\u001b[0m\n\u001b[1;32m    429\u001b[0m                         \u001b[0;32mexcept\u001b[0m \u001b[0mIncompatibleFrequency\u001b[0m\u001b[0;34m:\u001b[0m\u001b[0;34m\u001b[0m\u001b[0;34m\u001b[0m\u001b[0m\n\u001b[1;32m    430\u001b[0m                             \u001b[0;32mpass\u001b[0m\u001b[0;34m\u001b[0m\u001b[0;34m\u001b[0m\u001b[0m\n\u001b[0;32m--> 431\u001b[0;31m             \u001b[0;32mreturn\u001b[0m \u001b[0mcls\u001b[0m\u001b[0;34m.\u001b[0m\u001b[0m_simple_new\u001b[0m\u001b[0;34m(\u001b[0m\u001b[0msubarr\u001b[0m\u001b[0;34m,\u001b[0m \u001b[0mname\u001b[0m\u001b[0;34m)\u001b[0m\u001b[0;34m\u001b[0m\u001b[0;34m\u001b[0m\u001b[0m\n\u001b[0m\u001b[1;32m    432\u001b[0m \u001b[0;34m\u001b[0m\u001b[0m\n\u001b[1;32m    433\u001b[0m         \u001b[0;32melif\u001b[0m \u001b[0mhasattr\u001b[0m\u001b[0;34m(\u001b[0m\u001b[0mdata\u001b[0m\u001b[0;34m,\u001b[0m \u001b[0;34m'__array__'\u001b[0m\u001b[0;34m)\u001b[0m\u001b[0;34m:\u001b[0m\u001b[0;34m\u001b[0m\u001b[0;34m\u001b[0m\u001b[0m\n",
      "\u001b[0;32m/home/felipeb/.conda/envs/winnow/lib/python3.6/site-packages/pandas/core/indexes/base.py\u001b[0m in \u001b[0;36m_simple_new\u001b[0;34m(cls, values, name, dtype, **kwargs)\u001b[0m\n\u001b[1;32m    488\u001b[0m                                  **kwargs)._ndarray_values\n\u001b[1;32m    489\u001b[0m \u001b[0;34m\u001b[0m\u001b[0m\n\u001b[0;32m--> 490\u001b[0;31m         \u001b[0mresult\u001b[0m \u001b[0;34m=\u001b[0m \u001b[0mobject\u001b[0m\u001b[0;34m.\u001b[0m\u001b[0m__new__\u001b[0m\u001b[0;34m(\u001b[0m\u001b[0mcls\u001b[0m\u001b[0;34m)\u001b[0m\u001b[0;34m\u001b[0m\u001b[0;34m\u001b[0m\u001b[0m\n\u001b[0m\u001b[1;32m    491\u001b[0m         \u001b[0mresult\u001b[0m\u001b[0;34m.\u001b[0m\u001b[0m_data\u001b[0m \u001b[0;34m=\u001b[0m \u001b[0mvalues\u001b[0m\u001b[0;34m\u001b[0m\u001b[0;34m\u001b[0m\u001b[0m\n\u001b[1;32m    492\u001b[0m         \u001b[0mresult\u001b[0m\u001b[0;34m.\u001b[0m\u001b[0mname\u001b[0m \u001b[0;34m=\u001b[0m \u001b[0mname\u001b[0m\u001b[0;34m\u001b[0m\u001b[0;34m\u001b[0m\u001b[0m\n",
      "\u001b[0;31mKeyboardInterrupt\u001b[0m: "
     ]
    }
   ],
   "source": [
    "distances = np.linspace(0.0001,0.5)\n",
    "results = []\n",
    "for d in distances:\n",
    "    \n",
    "    clusters = DBSCAN(metric='cosine',eps=d,min_samples=1).fit_predict(video_space)\n",
    "    model_results = pd.DataFrame({'filename':labels,'cluster':clusters})\n",
    "    filename_original = a_o = dict(zip(augmentation_manifesto['new_filename'].apply(lambda x:x.split('.')[0]),augmentation_manifesto['original_basename']))\n",
    "    filename_original = a_o = dict(zip(augmentation_manifesto['new_filename'].apply(lambda x:x.split('.')[0]),augmentation_manifesto['original_basename']))\n",
    "    model_results['original_basename_q'] = model_results['filename'].apply(lambda x:matching(x,filename_original))\n",
    "    model_results['original_basename_q'] = model_results['original_basename_q'].apply(lambda x:x.split('.')[0])\n",
    "    model_results ['original_basename_m'] = 'NA'\n",
    "    for c in model_results.cluster.unique():\n",
    "\n",
    "        msk = model_results.cluster == c\n",
    "        prevailing = model_results.loc[msk,:].original_basename_q.value_counts().index.values[0]\n",
    "        top = model_results.loc[msk,:].original_basename_q.value_counts().values[0]\n",
    "        if top != 1:\n",
    "            model_results.loc[msk,'original_basename_m'] = prevailing\n",
    "        else:\n",
    "            model_results.loc[msk,'original_basename_m'] = 'na'\n",
    "            \n",
    "\n",
    "    per_a = model_results['original_basename_q'].value_counts()\n",
    "    msk = per_a[per_a > 1].index.values\n",
    "    restricted = model_results.loc[model_results['original_basename_q'].isin(msk),:]   \n",
    "    result = sum(restricted['original_basename_m'] == restricted['original_basename_q']) / restricted.shape[0]   \n",
    "    results.append(result)\n",
    "    \n",
    "print(results)"
   ]
  },
  {
   "cell_type": "code",
   "execution_count": null,
   "metadata": {},
   "outputs": [],
   "source": [
    "max(results)"
   ]
  },
  {
   "cell_type": "code",
   "execution_count": null,
   "metadata": {},
   "outputs": [],
   "source": [
    "distances[np.argmax(results)]"
   ]
  },
  {
   "cell_type": "markdown",
   "metadata": {},
   "source": [
    "## Official Inference"
   ]
  },
  {
   "cell_type": "code",
   "execution_count": 42,
   "metadata": {},
   "outputs": [],
   "source": [
    "clusters = DBSCAN(metric='cosine',eps=0.2,min_samples=1).fit_predict(video_space)\n",
    "model_results = pd.DataFrame({'filename':labels,'cluster':clusters})\n",
    "filename_original = a_o = dict(zip(augmentation_manifesto['new_filename'].apply(lambda x:x.split('.')[0]),augmentation_manifesto['original_basename']))\n",
    "filename_original = a_o = dict(zip(augmentation_manifesto['new_filename'].apply(lambda x:x.split('.')[0]),augmentation_manifesto['original_basename']))\n",
    "model_results['original_basename_q'] = model_results['filename'].apply(lambda x:matching(x,filename_original))\n",
    "model_results['original_basename_q'] = model_results['original_basename_q'].apply(lambda x:x.split('.')[0])\n",
    "model_results ['original_basename_m'] = 'NA'\n",
    "for c in model_results.cluster.unique():\n",
    "\n",
    "    msk = model_results.cluster == c\n",
    "    prevailing = model_results.loc[msk,:].original_basename_q.value_counts().index.values[0]\n",
    "    model_results.loc[msk,'original_basename_m'] = prevailing\n",
    "\n",
    "\n",
    "per_a = model_results['original_basename_q'].value_counts()\n",
    "msk = per_a[per_a > 1].index.values\n",
    "restricted = model_results.loc[model_results['original_basename_q'].isin(msk),:]   \n",
    "result = sum(restricted['original_basename_m'] == restricted['original_basename_q']) / restricted.shape[0]   \n",
    "results.append(result)\n",
    "    "
   ]
  },
  {
   "cell_type": "code",
   "execution_count": 43,
   "metadata": {},
   "outputs": [
    {
     "data": {
      "text/plain": [
       "2169"
      ]
     },
     "execution_count": 43,
     "metadata": {},
     "output_type": "execute_result"
    }
   ],
   "source": [
    "sum(model_results['original_basename_m'] == model_results['original_basename_q'])"
   ]
  },
  {
   "cell_type": "code",
   "execution_count": 44,
   "metadata": {},
   "outputs": [
    {
     "data": {
      "text/plain": [
       "2373"
      ]
     },
     "execution_count": 44,
     "metadata": {},
     "output_type": "execute_result"
    }
   ],
   "source": [
    "model_results['filename'].nunique()"
   ]
  },
  {
   "cell_type": "code",
   "execution_count": 45,
   "metadata": {},
   "outputs": [],
   "source": [
    "model_results['isUnique'] = model_results['filename'] == model_results['original_basename_q']"
   ]
  },
  {
   "cell_type": "code",
   "execution_count": 46,
   "metadata": {},
   "outputs": [
    {
     "data": {
      "text/plain": [
       "False    1451\n",
       "True      922\n",
       "Name: isUnique, dtype: int64"
      ]
     },
     "execution_count": 46,
     "metadata": {},
     "output_type": "execute_result"
    }
   ],
   "source": [
    "model_results.isUnique.value_counts()"
   ]
  },
  {
   "cell_type": "code",
   "execution_count": 47,
   "metadata": {},
   "outputs": [],
   "source": [
    "per_a = model_results['original_basename_q'].value_counts()\n",
    "msk = per_a[per_a > 1].index.values\n",
    "\n",
    "restricted = model_results.loc[model_results['original_basename_q'].isin(msk),:]"
   ]
  },
  {
   "cell_type": "code",
   "execution_count": 48,
   "metadata": {},
   "outputs": [
    {
     "data": {
      "text/plain": [
       "(1466, 5)"
      ]
     },
     "execution_count": 48,
     "metadata": {},
     "output_type": "execute_result"
    }
   ],
   "source": [
    "restricted.shape"
   ]
  },
  {
   "cell_type": "code",
   "execution_count": 49,
   "metadata": {},
   "outputs": [
    {
     "data": {
      "text/plain": [
       "0.9085948158253752"
      ]
     },
     "execution_count": 49,
     "metadata": {},
     "output_type": "execute_result"
    }
   ],
   "source": [
    "sum(restricted['original_basename_m'] == restricted['original_basename_q']) / restricted.shape[0]"
   ]
  },
  {
   "cell_type": "code",
   "execution_count": 50,
   "metadata": {},
   "outputs": [],
   "source": [
    "restricted.to_csv('model_results.csv')"
   ]
  },
  {
   "cell_type": "code",
   "execution_count": 51,
   "metadata": {},
   "outputs": [],
   "source": [
    "model_results.to_csv('full_model_results.csv')"
   ]
  },
  {
   "cell_type": "code",
   "execution_count": 52,
   "metadata": {},
   "outputs": [
    {
     "data": {
      "text/plain": [
       "1888"
      ]
     },
     "execution_count": 52,
     "metadata": {},
     "output_type": "execute_result"
    }
   ],
   "source": [
    "model_results.cluster.nunique()"
   ]
  },
  {
   "cell_type": "code",
   "execution_count": 57,
   "metadata": {},
   "outputs": [
    {
     "data": {
      "text/plain": [
       "(2373, 5)"
      ]
     },
     "execution_count": 57,
     "metadata": {},
     "output_type": "execute_result"
    }
   ],
   "source": [
    "model_results.shape"
   ]
  },
  {
   "cell_type": "code",
   "execution_count": 58,
   "metadata": {},
   "outputs": [
    {
     "data": {
      "text/plain": [
       "2373"
      ]
     },
     "execution_count": 58,
     "metadata": {},
     "output_type": "execute_result"
    }
   ],
   "source": [
    "len(labels)"
   ]
  },
  {
   "cell_type": "code",
   "execution_count": 59,
   "metadata": {},
   "outputs": [
    {
     "data": {
      "text/html": [
       "<div>\n",
       "<style scoped>\n",
       "    .dataframe tbody tr th:only-of-type {\n",
       "        vertical-align: middle;\n",
       "    }\n",
       "\n",
       "    .dataframe tbody tr th {\n",
       "        vertical-align: top;\n",
       "    }\n",
       "\n",
       "    .dataframe thead th {\n",
       "        text-align: right;\n",
       "    }\n",
       "</style>\n",
       "<table border=\"1\" class=\"dataframe\">\n",
       "  <thead>\n",
       "    <tr style=\"text-align: right;\">\n",
       "      <th></th>\n",
       "      <th>filename</th>\n",
       "      <th>cluster</th>\n",
       "      <th>original_basename_q</th>\n",
       "      <th>original_basename_m</th>\n",
       "      <th>isUnique</th>\n",
       "    </tr>\n",
       "  </thead>\n",
       "  <tbody>\n",
       "    <tr>\n",
       "      <th>0</th>\n",
       "      <td>7d88847165794ae6a90e6336571da918</td>\n",
       "      <td>0</td>\n",
       "      <td>Wa5_fQVlU1w-482f5996d46f7ce369ee9222ee6821fb</td>\n",
       "      <td>Wa5_fQVlU1w-482f5996d46f7ce369ee9222ee6821fb</td>\n",
       "      <td>False</td>\n",
       "    </tr>\n",
       "    <tr>\n",
       "      <th>1</th>\n",
       "      <td>oCQgqyQaFj4-fbeaafdb4054a30e4bc9ae66713f445c</td>\n",
       "      <td>1</td>\n",
       "      <td>oCQgqyQaFj4-fbeaafdb4054a30e4bc9ae66713f445c</td>\n",
       "      <td>oCQgqyQaFj4-fbeaafdb4054a30e4bc9ae66713f445c</td>\n",
       "      <td>True</td>\n",
       "    </tr>\n",
       "    <tr>\n",
       "      <th>2</th>\n",
       "      <td>b37a3303c8834fd99833e95746088ca3</td>\n",
       "      <td>2</td>\n",
       "      <td>G9LRUrGmUvA-211e0156bbd6a97e70e21e54bf64bff2</td>\n",
       "      <td>G9LRUrGmUvA-211e0156bbd6a97e70e21e54bf64bff2</td>\n",
       "      <td>False</td>\n",
       "    </tr>\n",
       "    <tr>\n",
       "      <th>3</th>\n",
       "      <td>S21kK7M8wz0-4a910daa08b9eac3aeef6019e2eb22f5</td>\n",
       "      <td>3</td>\n",
       "      <td>S21kK7M8wz0-4a910daa08b9eac3aeef6019e2eb22f5</td>\n",
       "      <td>S21kK7M8wz0-4a910daa08b9eac3aeef6019e2eb22f5</td>\n",
       "      <td>True</td>\n",
       "    </tr>\n",
       "    <tr>\n",
       "      <th>4</th>\n",
       "      <td>iarTmYN_cFw-cbec9d312f1eda1d3305c0f48de927ad</td>\n",
       "      <td>4</td>\n",
       "      <td>iarTmYN_cFw-cbec9d312f1eda1d3305c0f48de927ad</td>\n",
       "      <td>iarTmYN_cFw-cbec9d312f1eda1d3305c0f48de927ad</td>\n",
       "      <td>True</td>\n",
       "    </tr>\n",
       "  </tbody>\n",
       "</table>\n",
       "</div>"
      ],
      "text/plain": [
       "                                       filename  cluster  \\\n",
       "0              7d88847165794ae6a90e6336571da918        0   \n",
       "1  oCQgqyQaFj4-fbeaafdb4054a30e4bc9ae66713f445c        1   \n",
       "2              b37a3303c8834fd99833e95746088ca3        2   \n",
       "3  S21kK7M8wz0-4a910daa08b9eac3aeef6019e2eb22f5        3   \n",
       "4  iarTmYN_cFw-cbec9d312f1eda1d3305c0f48de927ad        4   \n",
       "\n",
       "                            original_basename_q  \\\n",
       "0  Wa5_fQVlU1w-482f5996d46f7ce369ee9222ee6821fb   \n",
       "1  oCQgqyQaFj4-fbeaafdb4054a30e4bc9ae66713f445c   \n",
       "2  G9LRUrGmUvA-211e0156bbd6a97e70e21e54bf64bff2   \n",
       "3  S21kK7M8wz0-4a910daa08b9eac3aeef6019e2eb22f5   \n",
       "4  iarTmYN_cFw-cbec9d312f1eda1d3305c0f48de927ad   \n",
       "\n",
       "                            original_basename_m  isUnique  \n",
       "0  Wa5_fQVlU1w-482f5996d46f7ce369ee9222ee6821fb     False  \n",
       "1  oCQgqyQaFj4-fbeaafdb4054a30e4bc9ae66713f445c      True  \n",
       "2  G9LRUrGmUvA-211e0156bbd6a97e70e21e54bf64bff2     False  \n",
       "3  S21kK7M8wz0-4a910daa08b9eac3aeef6019e2eb22f5      True  \n",
       "4  iarTmYN_cFw-cbec9d312f1eda1d3305c0f48de927ad      True  "
      ]
     },
     "execution_count": 59,
     "metadata": {},
     "output_type": "execute_result"
    }
   ],
   "source": [
    "model_results.head()"
   ]
  },
  {
   "cell_type": "code",
   "execution_count": 61,
   "metadata": {},
   "outputs": [],
   "source": [
    "total_matches = model_results['original_basename_q'].value_counts()"
   ]
  },
  {
   "cell_type": "code",
   "execution_count": 62,
   "metadata": {},
   "outputs": [],
   "source": [
    "total_maches = total_matches[total_matches > 1]"
   ]
  },
  {
   "cell_type": "code",
   "execution_count": 65,
   "metadata": {},
   "outputs": [
    {
     "data": {
      "text/plain": [
       "836"
      ]
     },
     "execution_count": 65,
     "metadata": {},
     "output_type": "execute_result"
    }
   ],
   "source": [
    "sum(total_matches) - len(total_matches)"
   ]
  },
  {
   "cell_type": "code",
   "execution_count": 68,
   "metadata": {},
   "outputs": [
    {
     "data": {
      "text/plain": [
       "836"
      ]
     },
     "execution_count": 68,
     "metadata": {},
     "output_type": "execute_result"
    }
   ],
   "source": [
    "model_results.filename.nunique() - model_results['original_basename_q'].nunique()"
   ]
  },
  {
   "cell_type": "code",
   "execution_count": 67,
   "metadata": {},
   "outputs": [
    {
     "data": {
      "text/plain": [
       "1537"
      ]
     },
     "execution_count": 67,
     "metadata": {},
     "output_type": "execute_result"
    }
   ],
   "source": []
  },
  {
   "cell_type": "code",
   "execution_count": null,
   "metadata": {},
   "outputs": [],
   "source": []
  },
  {
   "cell_type": "markdown",
   "metadata": {},
   "source": [
    "## Query Based"
   ]
  },
  {
   "cell_type": "code",
   "execution_count": 53,
   "metadata": {},
   "outputs": [],
   "source": [
    "from sklearn.neighbors import NearestNeighbors,KDTree,BallTree,LSHForest,NearestCentroid\n",
    "from pyvis.network import Network"
   ]
  },
  {
   "cell_type": "code",
   "execution_count": 54,
   "metadata": {},
   "outputs": [],
   "source": [
    "def filter_results(distances,indexes,thr):\n",
    "    results = []\n",
    "    results_distances = []\n",
    "    msk = distances < thr\n",
    "    for i,r in enumerate(msk):\n",
    "        results.append(indexes[i,r])\n",
    "        results_distances.append(distances[i,r])\n",
    "    return results,results_distances\n",
    "\n",
    "\n",
    "\n",
    "def evaluate_match_based(estimator,plot=True):\n",
    "    \n",
    "    estimator.fit(video_space)\n",
    "    distances,indexes = estimator.kneighbors(video_space,n_neighbors=20)\n",
    "    if plot == True:\n",
    "        plt.hist(distances[:,1::].ravel())\n",
    "        \n",
    "    threshold = 0.01\n",
    "    \n",
    "    msk = distances < threshold\n",
    "    \n",
    "    results,results_distances = filter_results(distances,indexes,0.4)\n",
    "    \n",
    "    net = Network(notebook=True,height='1000px',width='1000px')\n",
    "    net.barnes_hut()\n",
    "\n",
    "    for i,l in enumerate(labels):\n",
    "        net.add_node(str(i),label=str(l))\n",
    "\n",
    "    for i,d in enumerate(results):\n",
    "        for j,m in enumerate(d):\n",
    "            if j != 0:\n",
    "                net.add_edge(str(i),str(m),weight=str(results_distances[i][j]))\n",
    "\n",
    "    net.show_buttons(filter_=['physics'])\n",
    "    net.show('mygraph.html')\n",
    "    return net\n",
    "    \n",
    "    \n",
    "    \n",
    "    \n",
    "    \n",
    "    \n",
    "    "
   ]
  },
  {
   "cell_type": "code",
   "execution_count": null,
   "metadata": {},
   "outputs": [],
   "source": [
    "n = evaluate_match_based(LSHForest(n_estimators=20))"
   ]
  },
  {
   "cell_type": "code",
   "execution_count": null,
   "metadata": {},
   "outputs": [],
   "source": [
    "n.show('t.html')"
   ]
  },
  {
   "cell_type": "code",
   "execution_count": null,
   "metadata": {},
   "outputs": [],
   "source": [
    "%debug"
   ]
  },
  {
   "cell_type": "code",
   "execution_count": null,
   "metadata": {},
   "outputs": [],
   "source": [
    "lsh = LSHForest(n_estimators=20).fit(video_space)"
   ]
  },
  {
   "cell_type": "code",
   "execution_count": null,
   "metadata": {},
   "outputs": [],
   "source": [
    "results_sorteddistances,indexes = lsh.kneighbors(video_space,n_neighbors=30)"
   ]
  },
  {
   "cell_type": "code",
   "execution_count": null,
   "metadata": {},
   "outputs": [],
   "source": [
    "indexes"
   ]
  },
  {
   "cell_type": "markdown",
   "metadata": {},
   "source": [
    "KD Tree"
   ]
  },
  {
   "cell_type": "code",
   "execution_count": null,
   "metadata": {},
   "outputs": [],
   "source": []
  },
  {
   "cell_type": "code",
   "execution_count": null,
   "metadata": {},
   "outputs": [],
   "source": []
  },
  {
   "cell_type": "code",
   "execution_count": null,
   "metadata": {},
   "outputs": [],
   "source": []
  },
  {
   "cell_type": "code",
   "execution_count": null,
   "metadata": {},
   "outputs": [],
   "source": [
    "np.max(distances)"
   ]
  },
  {
   "cell_type": "code",
   "execution_count": null,
   "metadata": {},
   "outputs": [],
   "source": [
    "distances.shape"
   ]
  },
  {
   "cell_type": "code",
   "execution_count": null,
   "metadata": {},
   "outputs": [],
   "source": [
    "distances"
   ]
  },
  {
   "cell_type": "code",
   "execution_count": null,
   "metadata": {},
   "outputs": [],
   "source": [
    "plt.hist(distances[:,1::].ravel())"
   ]
  },
  {
   "cell_type": "code",
   "execution_count": null,
   "metadata": {},
   "outputs": [],
   "source": [
    "threshold = 0.5\n",
    "msk = distances < threshold"
   ]
  },
  {
   "cell_type": "code",
   "execution_count": null,
   "metadata": {},
   "outputs": [],
   "source": [
    "msk.shape"
   ]
  },
  {
   "cell_type": "code",
   "execution_count": null,
   "metadata": {},
   "outputs": [],
   "source": [
    "indices.shape"
   ]
  },
  {
   "cell_type": "code",
   "execution_count": null,
   "metadata": {},
   "outputs": [],
   "source": [
    "msk"
   ]
  },
  {
   "cell_type": "code",
   "execution_count": null,
   "metadata": {},
   "outputs": [],
   "source": [
    "indices"
   ]
  },
  {
   "cell_type": "code",
   "execution_count": 55,
   "metadata": {},
   "outputs": [],
   "source": [
    "def filter_results(thr):\n",
    "    results = []\n",
    "    results_distances = []\n",
    "    msk = distances < thr\n",
    "    for i,r in enumerate(msk):\n",
    "        results.append(indices[i,r])\n",
    "        results_distances.append(distances[i,r])\n",
    "    return results,results_distances"
   ]
  },
  {
   "cell_type": "code",
   "execution_count": null,
   "metadata": {},
   "outputs": [],
   "source": [
    "from collections import Counter"
   ]
  },
  {
   "cell_type": "code",
   "execution_count": null,
   "metadata": {},
   "outputs": [],
   "source": [
    "inner_sorted = [sorted(x) for x in results]\n",
    "results_assessment = sorted(inner_sorted,key=lambda x:len(x),reverse=True)"
   ]
  },
  {
   "cell_type": "code",
   "execution_count": null,
   "metadata": {},
   "outputs": [],
   "source": []
  },
  {
   "cell_type": "markdown",
   "metadata": {},
   "source": [
    "Network Analysis"
   ]
  },
  {
   "cell_type": "code",
   "execution_count": 75,
   "metadata": {},
   "outputs": [
    {
     "name": "stdout",
     "output_type": "stream",
     "text": [
      "0.3\n",
      "True     104\n",
      "False      2\n",
      "Name: label, dtype: int64\n",
      "0.31020408163265306\n",
      "True     114\n",
      "False      2\n",
      "Name: label, dtype: int64\n",
      "0.32040816326530613\n",
      "True     124\n",
      "False      2\n",
      "Name: label, dtype: int64\n",
      "0.33061224489795915\n",
      "True     140\n",
      "False      4\n",
      "Name: label, dtype: int64\n",
      "0.3408163265306122\n",
      "True     146\n",
      "False      6\n",
      "Name: label, dtype: int64\n",
      "0.3510204081632653\n",
      "True     164\n",
      "False      8\n",
      "Name: label, dtype: int64\n",
      "0.36122448979591837\n",
      "True     176\n",
      "False      8\n",
      "Name: label, dtype: int64\n",
      "0.37142857142857144\n",
      "True     192\n",
      "False     10\n",
      "Name: label, dtype: int64\n",
      "0.38163265306122446\n",
      "True     198\n",
      "False     12\n",
      "Name: label, dtype: int64\n",
      "0.39183673469387753\n",
      "True     212\n",
      "False     14\n",
      "Name: label, dtype: int64\n",
      "0.4020408163265306\n",
      "True     226\n",
      "False     16\n",
      "Name: label, dtype: int64\n",
      "0.4122448979591836\n",
      "True     242\n",
      "False     22\n",
      "Name: label, dtype: int64\n",
      "0.4224489795918367\n",
      "True     258\n",
      "False     24\n",
      "Name: label, dtype: int64\n",
      "0.43265306122448977\n",
      "True     268\n",
      "False     28\n",
      "Name: label, dtype: int64\n",
      "0.44285714285714284\n",
      "True     280\n",
      "False     28\n",
      "Name: label, dtype: int64\n",
      "0.4530612244897959\n",
      "True     292\n",
      "False     34\n",
      "Name: label, dtype: int64\n",
      "0.463265306122449\n",
      "True     306\n",
      "False     40\n",
      "Name: label, dtype: int64\n",
      "0.47346938775510206\n",
      "True     324\n",
      "False     52\n",
      "Name: label, dtype: int64\n",
      "0.4836734693877551\n",
      "True     338\n",
      "False     68\n",
      "Name: label, dtype: int64\n",
      "0.49387755102040815\n",
      "True     364\n",
      "False     78\n",
      "Name: label, dtype: int64\n",
      "0.5040816326530612\n",
      "True     378\n",
      "False     88\n",
      "Name: label, dtype: int64\n",
      "0.5142857142857142\n",
      "True     404\n",
      "False    102\n",
      "Name: label, dtype: int64\n",
      "0.5244897959183673\n",
      "True     432\n",
      "False    120\n",
      "Name: label, dtype: int64\n",
      "0.5346938775510204\n",
      "True     448\n",
      "False    146\n",
      "Name: label, dtype: int64\n",
      "0.5448979591836735\n",
      "True     468\n",
      "False    162\n",
      "Name: label, dtype: int64\n",
      "0.5551020408163265\n",
      "True     494\n",
      "False    176\n",
      "Name: label, dtype: int64\n",
      "0.5653061224489795\n",
      "True     524\n",
      "False    214\n",
      "Name: label, dtype: int64\n",
      "0.5755102040816327\n",
      "True     552\n",
      "False    240\n",
      "Name: label, dtype: int64\n",
      "0.5857142857142856\n",
      "True     574\n",
      "False    288\n",
      "Name: label, dtype: int64\n",
      "0.5959183673469388\n",
      "True     594\n",
      "False    356\n",
      "Name: label, dtype: int64\n",
      "0.6061224489795918\n",
      "True     626\n",
      "False    428\n",
      "Name: label, dtype: int64\n",
      "0.6163265306122448\n",
      "True     656\n",
      "False    534\n",
      "Name: label, dtype: int64\n",
      "0.6265306122448979\n",
      "True     684\n",
      "False    650\n",
      "Name: label, dtype: int64\n",
      "0.636734693877551\n",
      "False    768\n",
      "True     716\n",
      "Name: label, dtype: int64\n",
      "0.6469387755102041\n",
      "False    942\n",
      "True     744\n",
      "Name: label, dtype: int64\n",
      "0.657142857142857\n",
      "False    1130\n",
      "True      792\n",
      "Name: label, dtype: int64\n",
      "0.6673469387755102\n",
      "False    1376\n",
      "True      836\n",
      "Name: label, dtype: int64\n",
      "0.6775510204081632\n",
      "False    1636\n",
      "True      888\n",
      "Name: label, dtype: int64\n",
      "0.6877551020408164\n",
      "False    1954\n",
      "True      914\n",
      "Name: label, dtype: int64\n",
      "0.6979591836734693\n",
      "False    2368\n",
      "True      954\n",
      "Name: label, dtype: int64\n",
      "0.7081632653061224\n",
      "False    2848\n",
      "True      980\n",
      "Name: label, dtype: int64\n",
      "0.7183673469387755\n",
      "False    3502\n",
      "True     1020\n",
      "Name: label, dtype: int64\n",
      "0.7285714285714285\n",
      "False    4274\n",
      "True     1058\n",
      "Name: label, dtype: int64\n",
      "0.7387755102040816\n",
      "False    5189\n",
      "True     1092\n",
      "Name: label, dtype: int64\n",
      "0.7489795918367346\n",
      "False    6291\n",
      "True     1126\n",
      "Name: label, dtype: int64\n",
      "0.7591836734693878\n",
      "False    7512\n",
      "True     1154\n",
      "Name: label, dtype: int64\n",
      "0.7693877551020407\n",
      "False    8792\n",
      "True     1176\n",
      "Name: label, dtype: int64\n",
      "0.7795918367346939\n",
      "False    10326\n",
      "True      1214\n",
      "Name: label, dtype: int64\n",
      "0.7897959183673469\n",
      "False    11912\n",
      "True      1243\n",
      "Name: label, dtype: int64\n",
      "0.8\n",
      "False    13752\n",
      "True      1274\n",
      "Name: label, dtype: int64\n"
     ]
    }
   ],
   "source": [
    "nm = []\n",
    "ttt = []\n",
    "for tt in np.linspace(0.3,0.8):\n",
    "    nn = NearestNeighbors(n_neighbors=50,metric='euclidean',algorithm='kd_tree')\n",
    "    nn.fit(video_space)\n",
    "    distances,indices = nn.kneighbors(video_space)\n",
    "    results,results_distances = filter_results(tt)\n",
    "\n",
    "    ss = sorted(zip(results,results_distances),key=lambda x:len(x[0]),reverse=True)\n",
    "    results_sorted = [x[0] for x in ss]\n",
    "    results_sorted_distance = [x[1] for x in ss]\n",
    "\n",
    "\n",
    "    q = []\n",
    "    m = []\n",
    "    distance = []\n",
    "\n",
    "\n",
    "    for i,r in enumerate(results_sorted):\n",
    "        for j,matches in enumerate(r):\n",
    "            if j == 0:\n",
    "                qq = matches\n",
    "            q.append(qq)\n",
    "            m.append(matches)\n",
    "            distance.append(results_sorted_distance[i][j])\n",
    "\n",
    "    match_df = pd.DataFrame({\"query\":q,\"match\":m,\"distance\":distance})            \n",
    "    match_df['query_video'] = labels[match_df['query']]\n",
    "    match_df['match_video'] = labels[match_df['match']]\n",
    "\n",
    "    match_df['original_basename_q'] = match_df['query_video'].apply(lambda x:matching(x,filename_original))\n",
    "    match_df['original_basename_q'] = match_df['original_basename_q'].apply(lambda x:x.split('.')[0])\n",
    "    match_df['original_basename_m'] = match_df['match_video'].apply(lambda x:matching(x,filename_original))\n",
    "    match_df['original_basename_m'] = match_df['original_basename_m'].apply(lambda x:x.split('.')[0])\n",
    "\n",
    "    match_df['label'] = match_df['original_basename_q'] ==  match_df['original_basename_m'] \n",
    "    \n",
    "    print(tt)\n",
    "    print(match_df.loc[match_df.distance > 0.0,:].label.value_counts())\n",
    "    nm.append(match_df.loc[match_df.distance > 0.0,:].label.value_counts())\n",
    "    ttt.append(tt)\n",
    "    \n",
    "    match_df.to_csv('matches_at_{}_distance.csv'.format(tt))\n"
   ]
  },
  {
   "cell_type": "code",
   "execution_count": 82,
   "metadata": {},
   "outputs": [
    {
     "data": {
      "text/plain": [
       "[<matplotlib.lines.Line2D at 0x7f1e9f2e3710>]"
      ]
     },
     "execution_count": 82,
     "metadata": {},
     "output_type": "execute_result"
    },
    {
     "data": {
      "image/png": "[encoded data removed]",
      "text/plain": [
       "<Figure size 432x288 with 1 Axes>"
      ]
     },
     "metadata": {
      "needs_background": "light"
     },
     "output_type": "display_data"
    }
   ],
   "source": [
    "plt.plot(ttt,[x[True] for x in nm])\n",
    "plt.plot(ttt,[826] * len(ttt))"
   ]
  },
  {
   "cell_type": "code",
   "execution_count": 90,
   "metadata": {},
   "outputs": [
    {
     "data": {
      "text/plain": [
       "[(0.6673469387755102, False    1376\n",
       "  True      836\n",
       "  Name: label, dtype: int64), (0.657142857142857, False    1130\n",
       "  True      792\n",
       "  Name: label, dtype: int64), (0.6775510204081632, False    1636\n",
       "  True      888\n",
       "  Name: label, dtype: int64), (0.6469387755102041, False    942\n",
       "  True     744\n",
       "  Name: label, dtype: int64), (0.6877551020408164, False    1954\n",
       "  True      914\n",
       "  Name: label, dtype: int64), (0.636734693877551, False    768\n",
       "  True     716\n",
       "  Name: label, dtype: int64), (0.6979591836734693, False    2368\n",
       "  True      954\n",
       "  Name: label, dtype: int64), (0.6265306122448979, True     684\n",
       "  False    650\n",
       "  Name: label, dtype: int64), (0.7081632653061224, False    2848\n",
       "  True      980\n",
       "  Name: label, dtype: int64), (0.6163265306122448, True     656\n",
       "  False    534\n",
       "  Name: label, dtype: int64), (0.7183673469387755, False    3502\n",
       "  True     1020\n",
       "  Name: label, dtype: int64), (0.6061224489795918, True     626\n",
       "  False    428\n",
       "  Name: label, dtype: int64), (0.5959183673469388, True     594\n",
       "  False    356\n",
       "  Name: label, dtype: int64), (0.7285714285714285, False    4274\n",
       "  True     1058\n",
       "  Name: label, dtype: int64), (0.5857142857142856, True     574\n",
       "  False    288\n",
       "  Name: label, dtype: int64), (0.7387755102040816, False    5189\n",
       "  True     1092\n",
       "  Name: label, dtype: int64), (0.5755102040816327, True     552\n",
       "  False    240\n",
       "  Name: label, dtype: int64), (0.7489795918367346, False    6291\n",
       "  True     1126\n",
       "  Name: label, dtype: int64), (0.5653061224489795, True     524\n",
       "  False    214\n",
       "  Name: label, dtype: int64), (0.7591836734693878, False    7512\n",
       "  True     1154\n",
       "  Name: label, dtype: int64), (0.5551020408163265, True     494\n",
       "  False    176\n",
       "  Name: label, dtype: int64), (0.7693877551020407, False    8792\n",
       "  True     1176\n",
       "  Name: label, dtype: int64), (0.5448979591836735, True     468\n",
       "  False    162\n",
       "  Name: label, dtype: int64), (0.5346938775510204, True     448\n",
       "  False    146\n",
       "  Name: label, dtype: int64), (0.7795918367346939, False    10326\n",
       "  True      1214\n",
       "  Name: label, dtype: int64), (0.5244897959183673, True     432\n",
       "  False    120\n",
       "  Name: label, dtype: int64), (0.7897959183673469, False    11912\n",
       "  True      1243\n",
       "  Name: label, dtype: int64), (0.5142857142857142, True     404\n",
       "  False    102\n",
       "  Name: label, dtype: int64), (0.5040816326530612, True     378\n",
       "  False     88\n",
       "  Name: label, dtype: int64), (0.8, False    13752\n",
       "  True      1274\n",
       "  Name: label, dtype: int64), (0.49387755102040815, True     364\n",
       "  False     78\n",
       "  Name: label, dtype: int64), (0.4836734693877551, True     338\n",
       "  False     68\n",
       "  Name: label, dtype: int64), (0.47346938775510206, True     324\n",
       "  False     52\n",
       "  Name: label, dtype: int64), (0.463265306122449, True     306\n",
       "  False     40\n",
       "  Name: label, dtype: int64), (0.4530612244897959, True     292\n",
       "  False     34\n",
       "  Name: label, dtype: int64), (0.44285714285714284, True     280\n",
       "  False     28\n",
       "  Name: label, dtype: int64), (0.43265306122448977, True     268\n",
       "  False     28\n",
       "  Name: label, dtype: int64), (0.4224489795918367, True     258\n",
       "  False     24\n",
       "  Name: label, dtype: int64), (0.4122448979591836, True     242\n",
       "  False     22\n",
       "  Name: label, dtype: int64), (0.4020408163265306, True     226\n",
       "  False     16\n",
       "  Name: label, dtype: int64), (0.39183673469387753, True     212\n",
       "  False     14\n",
       "  Name: label, dtype: int64), (0.38163265306122446, True     198\n",
       "  False     12\n",
       "  Name: label, dtype: int64), (0.37142857142857144, True     192\n",
       "  False     10\n",
       "  Name: label, dtype: int64), (0.36122448979591837, True     176\n",
       "  False      8\n",
       "  Name: label, dtype: int64), (0.3510204081632653, True     164\n",
       "  False      8\n",
       "  Name: label, dtype: int64), (0.3408163265306122, True     146\n",
       "  False      6\n",
       "  Name: label, dtype: int64), (0.33061224489795915, True     140\n",
       "  False      4\n",
       "  Name: label, dtype: int64), (0.32040816326530613, True     124\n",
       "  False      2\n",
       "  Name: label, dtype: int64), (0.31020408163265306, True     114\n",
       "  False      2\n",
       "  Name: label, dtype: int64), (0.3, True     104\n",
       "  False      2\n",
       "  Name: label, dtype: int64)]"
      ]
     },
     "execution_count": 90,
     "metadata": {},
     "output_type": "execute_result"
    }
   ],
   "source": [
    "sorted(zip(ttt,nm),key = lambda x:(x[1][True] - 826)**2,reverse=False)"
   ]
  },
  {
   "cell_type": "code",
   "execution_count": null,
   "metadata": {},
   "outputs": [],
   "source": [
    "match_df.to_csv('matches_at_4distance.csv')"
   ]
  },
  {
   "cell_type": "code",
   "execution_count": null,
   "metadata": {},
   "outputs": [],
   "source": [
    "results[0]"
   ]
  },
  {
   "cell_type": "code",
   "execution_count": null,
   "metadata": {},
   "outputs": [],
   "source": []
  },
  {
   "cell_type": "code",
   "execution_count": null,
   "metadata": {},
   "outputs": [],
   "source": []
  },
  {
   "cell_type": "code",
   "execution_count": null,
   "metadata": {},
   "outputs": [],
   "source": [
    "len(results_sorted)"
   ]
  },
  {
   "cell_type": "code",
   "execution_count": null,
   "metadata": {},
   "outputs": [],
   "source": [
    "\n",
    "    \n",
    "    \n"
   ]
  },
  {
   "cell_type": "code",
   "execution_count": null,
   "metadata": {},
   "outputs": [],
   "source": [
    "print(len(q),len(m),len(distance))"
   ]
  },
  {
   "cell_type": "code",
   "execution_count": null,
   "metadata": {},
   "outputs": [],
   "source": []
  },
  {
   "cell_type": "code",
   "execution_count": null,
   "metadata": {},
   "outputs": [],
   "source": [
    "match_df.head()"
   ]
  },
  {
   "cell_type": "code",
   "execution_count": null,
   "metadata": {},
   "outputs": [],
   "source": []
  },
  {
   "cell_type": "code",
   "execution_count": null,
   "metadata": {},
   "outputs": [],
   "source": [
    "match_df.head()"
   ]
  },
  {
   "cell_type": "code",
   "execution_count": null,
   "metadata": {},
   "outputs": [],
   "source": []
  },
  {
   "cell_type": "code",
   "execution_count": null,
   "metadata": {},
   "outputs": [],
   "source": []
  },
  {
   "cell_type": "code",
   "execution_count": null,
   "metadata": {},
   "outputs": [],
   "source": [
    "match_df.label.value_counts()"
   ]
  },
  {
   "cell_type": "code",
   "execution_count": null,
   "metadata": {},
   "outputs": [],
   "source": []
  },
  {
   "cell_type": "code",
   "execution_count": null,
   "metadata": {},
   "outputs": [],
   "source": []
  },
  {
   "cell_type": "code",
   "execution_count": null,
   "metadata": {},
   "outputs": [],
   "source": [
    "import networkx as nx"
   ]
  },
  {
   "cell_type": "code",
   "execution_count": null,
   "metadata": {},
   "outputs": [],
   "source": []
  },
  {
   "cell_type": "code",
   "execution_count": null,
   "metadata": {},
   "outputs": [],
   "source": [
    "net = nx.Graph()\n",
    "\n",
    "for i,l in enumerate(labels):\n",
    "    net.add_node(i,label=l)\n",
    "    \n",
    "for i,d in enumerate(results):\n",
    "    for j,m in enumerate(d):\n",
    "        if j != 0:\n",
    "            net.add_edge(i,m,weight=results_distances[i][j])"
   ]
  },
  {
   "cell_type": "code",
   "execution_count": null,
   "metadata": {},
   "outputs": [],
   "source": []
  },
  {
   "cell_type": "code",
   "execution_count": null,
   "metadata": {},
   "outputs": [],
   "source": [
    "nx.subgraph(net,list(net.nodes()))"
   ]
  },
  {
   "cell_type": "code",
   "execution_count": null,
   "metadata": {},
   "outputs": [],
   "source": [
    "results = [list(x) for x in list(nx.connected_components(net)) if len(x) >1 ]"
   ]
  },
  {
   "cell_type": "code",
   "execution_count": null,
   "metadata": {},
   "outputs": [],
   "source": [
    "results = sorted(results, key=lambda x:len(x),reverse=True)"
   ]
  },
  {
   "cell_type": "code",
   "execution_count": null,
   "metadata": {},
   "outputs": [],
   "source": [
    "test_i = np.where(labels == 'wTFMF4CeMDA-74a2f0094e4ea9ccded15ccbe0dba9ce')[0][0]\n",
    "print(distances[test_i])\n",
    "print(indices[test_i])\n",
    "print(labels[indices[test_i]])"
   ]
  },
  {
   "cell_type": "markdown",
   "metadata": {},
   "source": [
    "## Validation"
   ]
  },
  {
   "cell_type": "code",
   "execution_count": null,
   "metadata": {},
   "outputs": [],
   "source": [
    "labels"
   ]
  },
  {
   "cell_type": "code",
   "execution_count": null,
   "metadata": {},
   "outputs": [],
   "source": [
    "results[2]"
   ]
  },
  {
   "cell_type": "code",
   "execution_count": null,
   "metadata": {},
   "outputs": [],
   "source": [
    "candidates = []\n",
    "for i,r in enumerate(results):\n",
    "\n",
    "    val = list(labels[results[i]])\n",
    "    augmentation_manifesto['new_filename_ne'] = augmentation_manifesto['new_filename'].apply(lambda x:x.split('.')[0])\n",
    "    msk1 = augmentation_manifesto['orig'].isin(val)\n",
    "    msk2 = augmentation_manifesto['new_filename_ne'].isin(val)\n",
    "    msk3 = msk1 | msk2\n",
    "    t = augmentation_manifesto.loc[msk3 ,:].sort_values(by='new_filename')\n",
    "    if t.filename.value_counts().values[0] != t.shape[0]:\n",
    "        candidates.append(t)\n",
    "        print(i,t.filename.value_counts())\n",
    "        "
   ]
  },
  {
   "cell_type": "code",
   "execution_count": null,
   "metadata": {},
   "outputs": [],
   "source": [
    "t.filename.value_counts()"
   ]
  },
  {
   "cell_type": "code",
   "execution_count": null,
   "metadata": {},
   "outputs": [],
   "source": [
    "t = candidates[2]"
   ]
  },
  {
   "cell_type": "code",
   "execution_count": null,
   "metadata": {},
   "outputs": [],
   "source": [
    "t.filename.value_counts()"
   ]
  },
  {
   "cell_type": "code",
   "execution_count": null,
   "metadata": {},
   "outputs": [],
   "source": [
    "t"
   ]
  },
  {
   "cell_type": "code",
   "execution_count": null,
   "metadata": {},
   "outputs": [],
   "source": [
    "videos = t.file_path.values"
   ]
  },
  {
   "cell_type": "code",
   "execution_count": null,
   "metadata": {},
   "outputs": [],
   "source": [
    "t"
   ]
  },
  {
   "cell_type": "code",
   "execution_count": null,
   "metadata": {},
   "outputs": [],
   "source": [
    "import io\n",
    "import base64\n",
    "from IPython.display import HTML\n",
    "\n",
    "video = io.open(videos[0], 'r+b').read()\n",
    "encoded = base64.b64encode(video)\n",
    "HTML(data='''<video alt=\"test\" controls>\n",
    "                <source src=\"data:video/mp4;base64,{0}\" type=\"video/mp4\" />\n",
    "             </video>'''.format(encoded.decode('ascii')))"
   ]
  },
  {
   "cell_type": "code",
   "execution_count": null,
   "metadata": {},
   "outputs": [],
   "source": [
    "video = io.open(videos[4], 'r+b').read()\n",
    "encoded = base64.b64encode(video)\n",
    "HTML(data='''<video alt=\"test\" controls>\n",
    "                <source src=\"data:video/mp4;base64,{0}\" type=\"video/mp4\" />\n",
    "             </video>'''.format(encoded.decode('ascii')))"
   ]
  },
  {
   "cell_type": "code",
   "execution_count": null,
   "metadata": {},
   "outputs": [],
   "source": [
    "results,results_distances = filter_results(0.7)"
   ]
  },
  {
   "cell_type": "code",
   "execution_count": null,
   "metadata": {},
   "outputs": [],
   "source": [
    "from pyvis.network import Network"
   ]
  },
  {
   "cell_type": "code",
   "execution_count": null,
   "metadata": {},
   "outputs": [],
   "source": [
    "print(len(labels),len(results),len(results_distances))"
   ]
  },
  {
   "cell_type": "code",
   "execution_count": null,
   "metadata": {},
   "outputs": [],
   "source": []
  },
  {
   "cell_type": "code",
   "execution_count": null,
   "metadata": {},
   "outputs": [],
   "source": [
    "for i,l in enumerate(labels):\n",
    "    net.add_node(str(i),label=l)"
   ]
  },
  {
   "cell_type": "code",
   "execution_count": null,
   "metadata": {},
   "outputs": [],
   "source": [
    "for i,d in enumerate(results):\n",
    "    for j,m in enumerate(d):\n",
    "        if j != 0:\n",
    "            net.add_edge(str(i),str(m),weight=results_distances[i][j])"
   ]
  },
  {
   "cell_type": "code",
   "execution_count": null,
   "metadata": {},
   "outputs": [],
   "source": [
    "net.show_buttons(filter_=['physics'])"
   ]
  },
  {
   "cell_type": "code",
   "execution_count": null,
   "metadata": {
    "scrolled": true
   },
   "outputs": [],
   "source": [
    "net.show('mygraph.html')"
   ]
  },
  {
   "cell_type": "code",
   "execution_count": null,
   "metadata": {},
   "outputs": [],
   "source": []
  },
  {
   "cell_type": "code",
   "execution_count": null,
   "metadata": {},
   "outputs": [],
   "source": []
  },
  {
   "cell_type": "code",
   "execution_count": null,
   "metadata": {},
   "outputs": [],
   "source": []
  },
  {
   "cell_type": "code",
   "execution_count": null,
   "metadata": {},
   "outputs": [],
   "source": []
  },
  {
   "cell_type": "code",
   "execution_count": null,
   "metadata": {},
   "outputs": [],
   "source": []
  },
  {
   "cell_type": "code",
   "execution_count": null,
   "metadata": {},
   "outputs": [],
   "source": []
  },
  {
   "cell_type": "code",
   "execution_count": null,
   "metadata": {},
   "outputs": [],
   "source": []
  },
  {
   "cell_type": "code",
   "execution_count": null,
   "metadata": {},
   "outputs": [],
   "source": []
  },
  {
   "cell_type": "code",
   "execution_count": null,
   "metadata": {},
   "outputs": [],
   "source": []
  },
  {
   "cell_type": "code",
   "execution_count": null,
   "metadata": {},
   "outputs": [],
   "source": []
  },
  {
   "cell_type": "code",
   "execution_count": null,
   "metadata": {},
   "outputs": [],
   "source": []
  },
  {
   "cell_type": "code",
   "execution_count": null,
   "metadata": {},
   "outputs": [],
   "source": []
  },
  {
   "cell_type": "code",
   "execution_count": null,
   "metadata": {},
   "outputs": [],
   "source": [
    "import networkx as nx"
   ]
  },
  {
   "cell_type": "code",
   "execution_count": null,
   "metadata": {},
   "outputs": [],
   "source": [
    "model_results.iloc[results_assessment[54],:]"
   ]
  },
  {
   "cell_type": "code",
   "execution_count": null,
   "metadata": {},
   "outputs": [],
   "source": [
    "model_results.cluster.nunique()"
   ]
  },
  {
   "cell_type": "code",
   "execution_count": null,
   "metadata": {},
   "outputs": [],
   "source": [
    "model_results.loc[model_results['original_basename_m'] == '7LYTx0IJtPY-983ff03d543f14a7fdf9f8e84e55f6b6',:]"
   ]
  },
  {
   "cell_type": "code",
   "execution_count": null,
   "metadata": {},
   "outputs": [],
   "source": [
    "distances[504]"
   ]
  },
  {
   "cell_type": "code",
   "execution_count": null,
   "metadata": {},
   "outputs": [],
   "source": [
    "distances[665]"
   ]
  },
  {
   "cell_type": "code",
   "execution_count": null,
   "metadata": {},
   "outputs": [],
   "source": [
    "augmentation_manifesto['orig'] = augmentation_manifesto['original_basename'].apply(lambda x:x.split('.')[0])"
   ]
  },
  {
   "cell_type": "code",
   "execution_count": null,
   "metadata": {},
   "outputs": [],
   "source": [
    "augmentation_manifesto.loc[augmentation_manifesto['orig'] == '7LYTx0IJtPY-983ff03d543f14a7fdf9f8e84e55f6b6',:]"
   ]
  },
  {
   "cell_type": "code",
   "execution_count": null,
   "metadata": {},
   "outputs": [],
   "source": [
    "augmentation_manifesto.fillna(0).mean()"
   ]
  },
  {
   "cell_type": "code",
   "execution_count": null,
   "metadata": {},
   "outputs": [],
   "source": [
    "augmentation_manifesto.loc[augmentation_manifesto['orig'] == '7LYTx0IJtPY-983ff03d543f14a7fdf9f8e84e55f6b6',:].fillna(0).mean()"
   ]
  },
  {
   "cell_type": "code",
   "execution_count": null,
   "metadata": {},
   "outputs": [],
   "source": [
    "model_results['original_basename_m'].value_counts()"
   ]
  },
  {
   "cell_type": "code",
   "execution_count": null,
   "metadata": {},
   "outputs": [],
   "source": [
    "rr = model_results.groupby(by='original_basename_q')['cluster'].agg(['count','nunique'])"
   ]
  },
  {
   "cell_type": "code",
   "execution_count": null,
   "metadata": {},
   "outputs": [],
   "source": [
    "model_results.head()"
   ]
  },
  {
   "cell_type": "code",
   "execution_count": null,
   "metadata": {},
   "outputs": [],
   "source": [
    "rr.sort_values(by='count',ascending=False)"
   ]
  },
  {
   "cell_type": "code",
   "execution_count": null,
   "metadata": {},
   "outputs": [],
   "source": [
    "rr.columns"
   ]
  },
  {
   "cell_type": "code",
   "execution_count": null,
   "metadata": {},
   "outputs": [],
   "source": [
    "def evaluate(x):\n",
    "    if x['count'] == x['nunique']:\n",
    "        rr['purity'] = 0\n",
    "    else:\n",
    "        return (x['count'] / x['nunique'])  / x['count']\n",
    "        \n",
    "    \n",
    "    "
   ]
  },
  {
   "cell_type": "code",
   "execution_count": null,
   "metadata": {},
   "outputs": [],
   "source": [
    "rr['purity'] =  rr.apply(evaluate,axis=1).fillna(0)"
   ]
  },
  {
   "cell_type": "code",
   "execution_count": null,
   "metadata": {},
   "outputs": [],
   "source": [
    "rr.sort_values(by='purity',ascending=False)"
   ]
  },
  {
   "cell_type": "code",
   "execution_count": null,
   "metadata": {},
   "outputs": [],
   "source": [
    "rr.loc[rr['purity'] > 0.3,:]['purity'].shape"
   ]
  },
  {
   "cell_type": "code",
   "execution_count": null,
   "metadata": {},
   "outputs": [],
   "source": [
    "rr.shape"
   ]
  },
  {
   "cell_type": "code",
   "execution_count": null,
   "metadata": {},
   "outputs": [],
   "source": [
    "rr.loc[rr['count'] > 1,:].shape"
   ]
  },
  {
   "cell_type": "code",
   "execution_count": null,
   "metadata": {},
   "outputs": [],
   "source": []
  },
  {
   "cell_type": "code",
   "execution_count": null,
   "metadata": {},
   "outputs": [],
   "source": [
    "rr['a'] = rr['purity'] * rr['count']"
   ]
  },
  {
   "cell_type": "code",
   "execution_count": null,
   "metadata": {},
   "outputs": [],
   "source": [
    "sum(rr['a']) / rr.shape[0]"
   ]
  },
  {
   "cell_type": "code",
   "execution_count": null,
   "metadata": {},
   "outputs": [],
   "source": []
  },
  {
   "cell_type": "code",
   "execution_count": null,
   "metadata": {},
   "outputs": [],
   "source": []
  }
 ],
 "metadata": {
  "kernelspec": {
   "display_name": "Python 3",
   "language": "python",
   "name": "python3"
  },
  "language_info": {
   "codemirror_mode": {
    "name": "ipython",
    "version": 3
   },
   "file_extension": ".py",
   "mimetype": "text/x-python",
   "name": "python",
   "nbconvert_exporter": "python",
   "pygments_lexer": "ipython3",
   "version": "3.6.8"
  }
 },
 "nbformat": 4,
 "nbformat_minor": 2
}
