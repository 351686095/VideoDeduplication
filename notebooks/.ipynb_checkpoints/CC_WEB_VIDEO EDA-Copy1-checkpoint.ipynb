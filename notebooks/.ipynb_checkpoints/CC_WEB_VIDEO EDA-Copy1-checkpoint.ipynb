{
 "cells": [
  {
   "cell_type": "markdown",
   "metadata": {},
   "source": [
    "## CC_WEB VIDEO EDA"
   ]
  },
  {
   "cell_type": "code",
   "execution_count": 38,
   "metadata": {},
   "outputs": [],
   "source": [
    "import pandas as pd\n",
    "from glob import glob\n",
    "from encodings.aliases import aliases"
   ]
  },
  {
   "cell_type": "code",
   "execution_count": 3,
   "metadata": {},
   "outputs": [
    {
     "data": {
      "text/plain": [
       "['../data/external/CC_WEB_VIDEO/Seed.txt',\n",
       " '../data/external/CC_WEB_VIDEO/Video_Complete.txt',\n",
       " '../data/external/CC_WEB_VIDEO/Video_List.txt',\n",
       " '../data/external/CC_WEB_VIDEO/Shot_Info.txt']"
      ]
     },
     "execution_count": 3,
     "metadata": {},
     "output_type": "execute_result"
    }
   ],
   "source": [
    "glob('../data/external/CC_WEB_VIDEO/**.txt')"
   ]
  },
  {
   "cell_type": "code",
   "execution_count": 4,
   "metadata": {},
   "outputs": [],
   "source": [
    "SHOT_INFO = '../data/external/CC_WEB_VIDEO/Shot_Info.txt'\n",
    "VIDEO_COMPLETE = '../data/external/CC_WEB_VIDEO/Video_Complete.txt'\n",
    "VIDEO_LIST = '../data/external/CC_WEB_VIDEO/Video_List.txt'\n",
    "SEED = '../data/external/CC_WEB_VIDEO/Seed.txt'\n"
   ]
  },
  {
   "cell_type": "code",
   "execution_count": 34,
   "metadata": {},
   "outputs": [
    {
     "data": {
      "text/html": [
       "<div>\n",
       "<style scoped>\n",
       "    .dataframe tbody tr th:only-of-type {\n",
       "        vertical-align: middle;\n",
       "    }\n",
       "\n",
       "    .dataframe tbody tr th {\n",
       "        vertical-align: top;\n",
       "    }\n",
       "\n",
       "    .dataframe thead th {\n",
       "        text-align: right;\n",
       "    }\n",
       "</style>\n",
       "<table border=\"1\" class=\"dataframe\">\n",
       "  <thead>\n",
       "    <tr style=\"text-align: right;\">\n",
       "      <th></th>\n",
       "      <th>0</th>\n",
       "      <th>1</th>\n",
       "      <th>2</th>\n",
       "      <th>3</th>\n",
       "      <th>4</th>\n",
       "    </tr>\n",
       "  </thead>\n",
       "  <tbody>\n",
       "    <tr>\n",
       "      <th>0</th>\n",
       "      <td>1</td>\n",
       "      <td>1</td>\n",
       "      <td>YouTube</td>\n",
       "      <td>1_1_Y.flv</td>\n",
       "      <td>http://www.youtube.com/watch?v=d3hJhyOQ_eA</td>\n",
       "    </tr>\n",
       "    <tr>\n",
       "      <th>1</th>\n",
       "      <td>2</td>\n",
       "      <td>1</td>\n",
       "      <td>YouTube</td>\n",
       "      <td>1_2_Y.flv</td>\n",
       "      <td>http://www.youtube.com/watch?v=CCz1kmfqL7g</td>\n",
       "    </tr>\n",
       "    <tr>\n",
       "      <th>2</th>\n",
       "      <td>3</td>\n",
       "      <td>1</td>\n",
       "      <td>YouTube</td>\n",
       "      <td>1_3_Y.flv</td>\n",
       "      <td>http://www.youtube.com/watch?v=9q3rB1nusv4</td>\n",
       "    </tr>\n",
       "    <tr>\n",
       "      <th>3</th>\n",
       "      <td>4</td>\n",
       "      <td>1</td>\n",
       "      <td>YouTube</td>\n",
       "      <td>1_4_Y.flv</td>\n",
       "      <td>http://www.youtube.com/watch?v=b7ze8wgFi_A</td>\n",
       "    </tr>\n",
       "    <tr>\n",
       "      <th>4</th>\n",
       "      <td>5</td>\n",
       "      <td>1</td>\n",
       "      <td>YouTube</td>\n",
       "      <td>1_5_Y.flv</td>\n",
       "      <td>http://www.youtube.com/watch?v=nlnWWlLpm_8</td>\n",
       "    </tr>\n",
       "  </tbody>\n",
       "</table>\n",
       "</div>"
      ],
      "text/plain": [
       "   0  1        2          3                                           4\n",
       "0  1  1  YouTube  1_1_Y.flv  http://www.youtube.com/watch?v=d3hJhyOQ_eA\n",
       "1  2  1  YouTube  1_2_Y.flv  http://www.youtube.com/watch?v=CCz1kmfqL7g\n",
       "2  3  1  YouTube  1_3_Y.flv  http://www.youtube.com/watch?v=9q3rB1nusv4\n",
       "3  4  1  YouTube  1_4_Y.flv  http://www.youtube.com/watch?v=b7ze8wgFi_A\n",
       "4  5  1  YouTube  1_5_Y.flv  http://www.youtube.com/watch?v=nlnWWlLpm_8"
      ]
     },
     "execution_count": 34,
     "metadata": {},
     "output_type": "execute_result"
    }
   ],
   "source": [
    "video_df = pd.read_csv(VIDEO_LIST,sep='\\t',header=None)\n",
    "video_df.head()"
   ]
  },
  {
   "cell_type": "code",
   "execution_count": 128,
   "metadata": {},
   "outputs": [],
   "source": [
    "video_complete_df = pd.read_csv(VIDEO_COMPLETE,error_bad_lines=False,sep='\\t')"
   ]
  },
  {
   "cell_type": "code",
   "execution_count": 134,
   "metadata": {},
   "outputs": [
    {
     "data": {
      "text/plain": [
       "(13129, 13)"
      ]
     },
     "execution_count": 134,
     "metadata": {},
     "output_type": "execute_result"
    }
   ],
   "source": [
    "video_complete_df.shape"
   ]
  },
  {
   "cell_type": "code",
   "execution_count": null,
   "metadata": {},
   "outputs": [],
   "source": [
    "video_complete_df[video_complete_df['Category'].isnull()]"
   ]
  },
  {
   "cell_type": "code",
   "execution_count": 129,
   "metadata": {},
   "outputs": [
    {
     "data": {
      "text/html": [
       "<div>\n",
       "<style scoped>\n",
       "    .dataframe tbody tr th:only-of-type {\n",
       "        vertical-align: middle;\n",
       "    }\n",
       "\n",
       "    .dataframe tbody tr th {\n",
       "        vertical-align: top;\n",
       "    }\n",
       "\n",
       "    .dataframe thead th {\n",
       "        text-align: right;\n",
       "    }\n",
       "</style>\n",
       "<table border=\"1\" class=\"dataframe\">\n",
       "  <thead>\n",
       "    <tr style=\"text-align: right;\">\n",
       "      <th></th>\n",
       "      <th>ID</th>\n",
       "      <th>TopicID</th>\n",
       "      <th>Source</th>\n",
       "      <th>VideoName</th>\n",
       "      <th>Duration</th>\n",
       "      <th>Format</th>\n",
       "      <th>Title</th>\n",
       "      <th>Duplicate</th>\n",
       "      <th>Url</th>\n",
       "      <th>Category</th>\n",
       "      <th>Tags</th>\n",
       "      <th>Description</th>\n",
       "      <th>Author</th>\n",
       "    </tr>\n",
       "  </thead>\n",
       "  <tbody>\n",
       "    <tr>\n",
       "      <th>0</th>\n",
       "      <td>1</td>\n",
       "      <td>1</td>\n",
       "      <td>YouTube</td>\n",
       "      <td>1_1_Y.flv</td>\n",
       "      <td>01:03</td>\n",
       "      <td>flv</td>\n",
       "      <td>The Lion Sleeps Tonight</td>\n",
       "      <td>0</td>\n",
       "      <td>http://www.youtube.com/watch?v=d3hJhyOQ_eA</td>\n",
       "      <td>News &amp; Blogs</td>\n",
       "      <td>lion sleep tonight</td>\n",
       "      <td>The lion sleeps tonight</td>\n",
       "      <td>Sommersturm2005</td>\n",
       "    </tr>\n",
       "  </tbody>\n",
       "</table>\n",
       "</div>"
      ],
      "text/plain": [
       "   ID  TopicID   Source  VideoName Duration Format                    Title  \\\n",
       "0   1        1  YouTube  1_1_Y.flv    01:03    flv  The Lion Sleeps Tonight   \n",
       "\n",
       "   Duplicate                                         Url      Category  \\\n",
       "0          0  http://www.youtube.com/watch?v=d3hJhyOQ_eA  News & Blogs   \n",
       "\n",
       "                 Tags              Description           Author  \n",
       "0  lion sleep tonight  The lion sleeps tonight  Sommersturm2005  "
      ]
     },
     "execution_count": 129,
     "metadata": {},
     "output_type": "execute_result"
    }
   ],
   "source": [
    "video_complete_df.head(1)"
   ]
  },
  {
   "cell_type": "code",
   "execution_count": 142,
   "metadata": {},
   "outputs": [
    {
     "data": {
      "text/plain": [
       "15    1793\n",
       "23    1352\n",
       "12     897\n",
       "1      812\n",
       "6      781\n",
       "17     657\n",
       "2      594\n",
       "19     570\n",
       "8      553\n",
       "18     501\n",
       "21     458\n",
       "3      440\n",
       "22     428\n",
       "13     419\n",
       "5      404\n",
       "11     381\n",
       "7      366\n",
       "4      353\n",
       "24     313\n",
       "10     305\n",
       "9      238\n",
       "16     208\n",
       "20     198\n",
       "14     108\n",
       "Name: TopicID, dtype: int64"
      ]
     },
     "execution_count": 142,
     "metadata": {},
     "output_type": "execute_result"
    }
   ],
   "source": [
    "video_complete_df['TopicID'].value_counts()"
   ]
  },
  {
   "cell_type": "markdown",
   "metadata": {},
   "source": [
    "## Downloading the files"
   ]
  },
  {
   "cell_type": "markdown",
   "metadata": {},
   "source": [
    "http://vireo.cs.cityu.edu.hk/webvideo/videos/QueryID/VideoName    "
   ]
  },
  {
   "cell_type": "code",
   "execution_count": 172,
   "metadata": {},
   "outputs": [],
   "source": [
    "import requests\n",
    "import shutil\n",
    "import os\n",
    "THIS_FOLDER = os.path.dirname(os.path.abspath(''))\n",
    "SAVE_FOLDER = os.path.join(THIS_FOLDER, 'data/external/CC_WEB_VIDEO/videos')\n",
    "\n",
    "\n",
    "\n",
    "def download_file(local_filename,url):\n",
    "    r = requests.get(url, stream=True)\n",
    "    with open(local_filename, 'wb') as f:\n",
    "        shutil.copyfileobj(r.raw, f)\n",
    "\n",
    "    return local_filename"
   ]
  },
  {
   "cell_type": "code",
   "execution_count": 173,
   "metadata": {},
   "outputs": [
    {
     "data": {
      "text/plain": [
       "'/home/felipe/ai/toptal/benetech/WinnowProject v2/winnow_project/data/external/CC_WEB_VIDEO/videos'"
      ]
     },
     "execution_count": 173,
     "metadata": {},
     "output_type": "execute_result"
    }
   ],
   "source": [
    "SAVE_FOLDER"
   ]
  },
  {
   "cell_type": "code",
   "execution_count": null,
   "metadata": {},
   "outputs": [
    {
     "name": "stdout",
     "output_type": "stream",
     "text": [
      "Downloading file 0 of 13129\n",
      "Downloading file 1 of 13129\n",
      "Downloading file 2 of 13129\n",
      "Downloading file 3 of 13129\n",
      "Downloading file 4 of 13129\n",
      "Downloading file 5 of 13129\n",
      "Downloading file 6 of 13129\n",
      "Downloading file 7 of 13129\n",
      "Downloading file 8 of 13129\n",
      "Downloading file 9 of 13129\n",
      "Downloading file 10 of 13129\n",
      "Downloading file 11 of 13129\n",
      "Downloading file 12 of 13129\n",
      "Downloading file 13 of 13129\n",
      "Downloading file 14 of 13129\n",
      "Downloading file 15 of 13129\n",
      "Downloading file 16 of 13129\n",
      "Downloading file 17 of 13129\n",
      "Downloading file 18 of 13129\n",
      "Downloading file 19 of 13129\n",
      "Downloading file 20 of 13129\n",
      "Downloading file 21 of 13129\n",
      "Downloading file 22 of 13129\n",
      "Downloading file 23 of 13129\n",
      "Downloading file 24 of 13129\n",
      "Downloading file 25 of 13129\n",
      "Downloading file 26 of 13129\n",
      "Downloading file 27 of 13129\n",
      "Downloading file 28 of 13129\n",
      "Downloading file 29 of 13129\n",
      "Downloading file 30 of 13129\n",
      "Downloading file 31 of 13129\n",
      "Downloading file 32 of 13129\n",
      "Downloading file 33 of 13129\n",
      "Downloading file 34 of 13129\n",
      "Downloading file 35 of 13129\n",
      "Downloading file 36 of 13129\n",
      "Downloading file 37 of 13129\n",
      "Downloading file 38 of 13129\n",
      "Downloading file 39 of 13129\n",
      "Downloading file 40 of 13129\n",
      "Downloading file 41 of 13129\n",
      "Downloading file 42 of 13129\n",
      "Downloading file 43 of 13129\n",
      "Downloading file 44 of 13129\n",
      "Downloading file 45 of 13129\n",
      "Downloading file 46 of 13129\n",
      "Downloading file 47 of 13129\n",
      "Downloading file 48 of 13129\n",
      "Downloading file 49 of 13129\n",
      "Downloading file 50 of 13129\n",
      "Downloading file 51 of 13129\n",
      "Downloading file 52 of 13129\n",
      "Downloading file 53 of 13129\n",
      "Downloading file 54 of 13129\n",
      "Downloading file 55 of 13129\n",
      "Downloading file 56 of 13129\n",
      "Downloading file 57 of 13129\n",
      "Downloading file 58 of 13129\n",
      "Downloading file 59 of 13129\n",
      "Downloading file 60 of 13129\n",
      "Downloading file 61 of 13129\n",
      "Downloading file 62 of 13129\n",
      "Downloading file 63 of 13129\n",
      "Downloading file 64 of 13129\n",
      "Downloading file 65 of 13129\n",
      "Downloading file 66 of 13129\n",
      "Downloading file 67 of 13129\n",
      "Downloading file 68 of 13129\n",
      "Downloading file 69 of 13129\n",
      "Downloading file 70 of 13129\n",
      "Downloading file 71 of 13129\n",
      "Downloading file 72 of 13129\n",
      "Downloading file 73 of 13129\n",
      "Downloading file 74 of 13129\n",
      "Downloading file 75 of 13129\n",
      "Downloading file 76 of 13129\n",
      "Downloading file 77 of 13129\n",
      "Downloading file 78 of 13129\n",
      "Downloading file 79 of 13129\n",
      "Downloading file 80 of 13129\n",
      "Downloading file 81 of 13129\n",
      "Downloading file 82 of 13129\n",
      "Downloading file 83 of 13129\n",
      "Downloading file 84 of 13129\n",
      "Downloading file 85 of 13129\n",
      "Downloading file 86 of 13129\n",
      "Downloading file 87 of 13129\n",
      "Downloading file 88 of 13129\n",
      "Downloading file 89 of 13129\n",
      "Downloading file 90 of 13129\n",
      "Downloading file 91 of 13129\n",
      "Downloading file 92 of 13129\n",
      "Downloading file 93 of 13129\n",
      "Downloading file 94 of 13129\n",
      "Downloading file 95 of 13129\n",
      "Downloading file 96 of 13129\n",
      "Downloading file 97 of 13129\n",
      "Downloading file 98 of 13129\n",
      "Downloading file 99 of 13129\n",
      "Downloading file 100 of 13129\n",
      "Downloading file 101 of 13129\n",
      "Downloading file 102 of 13129\n",
      "Downloading file 103 of 13129\n",
      "Downloading file 104 of 13129\n",
      "Downloading file 105 of 13129\n",
      "Downloading file 106 of 13129\n",
      "Downloading file 107 of 13129\n",
      "Downloading file 108 of 13129\n",
      "Downloading file 109 of 13129\n",
      "Downloading file 110 of 13129\n",
      "Downloading file 111 of 13129\n",
      "Downloading file 112 of 13129\n",
      "Downloading file 113 of 13129\n",
      "Downloading file 114 of 13129\n",
      "Downloading file 115 of 13129\n",
      "Downloading file 116 of 13129\n",
      "Downloading file 117 of 13129\n",
      "Downloading file 118 of 13129\n",
      "Downloading file 119 of 13129\n",
      "Downloading file 120 of 13129\n",
      "Downloading file 121 of 13129\n",
      "Downloading file 122 of 13129\n",
      "Downloading file 123 of 13129\n",
      "Downloading file 124 of 13129\n",
      "Downloading file 125 of 13129\n",
      "Downloading file 126 of 13129\n",
      "Downloading file 127 of 13129\n",
      "Downloading file 128 of 13129\n",
      "Downloading file 129 of 13129\n",
      "Downloading file 130 of 13129\n",
      "Downloading file 131 of 13129\n",
      "Downloading file 132 of 13129\n",
      "Downloading file 133 of 13129\n",
      "Downloading file 134 of 13129\n",
      "Downloading file 135 of 13129\n",
      "Downloading file 136 of 13129\n",
      "Downloading file 137 of 13129\n",
      "Downloading file 138 of 13129\n",
      "Downloading file 139 of 13129\n",
      "Downloading file 140 of 13129\n",
      "Downloading file 141 of 13129\n",
      "Downloading file 142 of 13129\n",
      "Downloading file 143 of 13129\n",
      "Downloading file 144 of 13129\n",
      "Downloading file 145 of 13129\n",
      "Downloading file 146 of 13129\n",
      "Downloading file 147 of 13129\n",
      "Downloading file 148 of 13129\n",
      "Downloading file 149 of 13129\n",
      "Downloading file 150 of 13129\n",
      "Downloading file 151 of 13129\n",
      "Downloading file 152 of 13129\n",
      "Downloading file 153 of 13129\n",
      "Downloading file 154 of 13129\n",
      "Downloading file 155 of 13129\n",
      "Downloading file 156 of 13129\n",
      "Downloading file 157 of 13129\n",
      "Downloading file 158 of 13129\n",
      "Downloading file 159 of 13129\n",
      "Downloading file 160 of 13129\n",
      "Downloading file 161 of 13129\n",
      "Downloading file 162 of 13129\n",
      "Downloading file 163 of 13129\n",
      "Downloading file 164 of 13129\n",
      "Downloading file 165 of 13129\n",
      "Downloading file 166 of 13129\n",
      "Downloading file 167 of 13129\n",
      "Downloading file 168 of 13129\n",
      "Downloading file 169 of 13129\n",
      "Downloading file 170 of 13129\n",
      "Downloading file 171 of 13129\n",
      "Downloading file 172 of 13129\n",
      "Downloading file 173 of 13129\n",
      "Downloading file 174 of 13129\n",
      "Downloading file 175 of 13129\n",
      "Downloading file 176 of 13129\n",
      "Downloading file 177 of 13129\n",
      "Downloading file 178 of 13129\n",
      "Downloading file 179 of 13129\n",
      "Downloading file 180 of 13129\n",
      "Downloading file 181 of 13129\n",
      "Downloading file 182 of 13129\n",
      "Downloading file 183 of 13129\n",
      "Downloading file 184 of 13129\n",
      "Downloading file 185 of 13129\n",
      "Downloading file 186 of 13129\n",
      "Downloading file 187 of 13129\n",
      "Downloading file 188 of 13129\n",
      "Downloading file 189 of 13129\n",
      "Downloading file 190 of 13129\n",
      "Downloading file 191 of 13129\n",
      "Downloading file 192 of 13129\n",
      "Downloading file 193 of 13129\n",
      "Downloading file 194 of 13129\n",
      "Downloading file 195 of 13129\n",
      "Downloading file 196 of 13129\n",
      "Downloading file 197 of 13129\n",
      "Downloading file 198 of 13129\n",
      "Downloading file 199 of 13129\n",
      "Downloading file 200 of 13129\n",
      "Downloading file 201 of 13129\n",
      "Downloading file 202 of 13129\n",
      "Downloading file 203 of 13129\n",
      "Downloading file 204 of 13129\n",
      "Downloading file 205 of 13129\n",
      "Downloading file 206 of 13129\n",
      "Downloading file 207 of 13129\n",
      "Downloading file 208 of 13129\n",
      "Downloading file 209 of 13129\n",
      "Downloading file 210 of 13129\n",
      "Downloading file 211 of 13129\n",
      "Downloading file 212 of 13129\n",
      "Downloading file 213 of 13129\n",
      "Downloading file 214 of 13129\n",
      "Downloading file 215 of 13129\n",
      "Downloading file 216 of 13129\n",
      "Downloading file 217 of 13129\n",
      "Downloading file 218 of 13129\n",
      "Downloading file 219 of 13129\n",
      "Downloading file 220 of 13129\n",
      "Downloading file 221 of 13129\n",
      "Downloading file 222 of 13129\n",
      "Downloading file 223 of 13129\n"
     ]
    }
   ],
   "source": [
    "for row in video_complete_df.iterrows():\n",
    "    _,data = row\n",
    "    total = len(video_complete_df)\n",
    "    download_url = \"http://vireo.cs.cityu.edu.hk/webvideo/videos/{}/{}\".format(data['TopicID'],data['VideoName'])\n",
    "    local_path = os.path.join(SAVE_FOLDER, data['VideoName'])\n",
    "    \n",
    "    print('Downloading file {} of {}'.format(_,total))\n",
    "    download_file(local_path,download_url)\n"
   ]
  },
  {
   "cell_type": "code",
   "execution_count": null,
   "metadata": {},
   "outputs": [],
   "source": []
  }
 ],
 "metadata": {
  "kernelspec": {
   "display_name": "Python 3",
   "language": "python",
   "name": "python3"
  },
  "language_info": {
   "codemirror_mode": {
    "name": "ipython",
    "version": 3
   },
   "file_extension": ".py",
   "mimetype": "text/x-python",
   "name": "python",
   "nbconvert_exporter": "python",
   "pygments_lexer": "ipython3",
   "version": "3.6.5"
  }
 },
 "nbformat": 4,
 "nbformat_minor": 2
}
