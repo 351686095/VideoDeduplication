{
 "cells": [
  {
   "cell_type": "code",
   "execution_count": 16,
   "metadata": {},
   "outputs": [],
   "source": [
    "import yaml\n",
    "\n",
    "with open(\"../config.yaml\", 'r') as ymlfile:\n",
    "    cfg = yaml.load(ymlfile)\n"
   ]
  },
  {
   "cell_type": "code",
   "execution_count": 17,
   "metadata": {},
   "outputs": [
    {
     "data": {
      "text/plain": [
       "{'video_source_folder': '/datadrive/test_dataset/'}"
      ]
     },
     "execution_count": 17,
     "metadata": {},
     "output_type": "execute_result"
    }
   ],
   "source": [
    "cfg"
   ]
  },
  {
   "cell_type": "code",
   "execution_count": 20,
   "metadata": {},
   "outputs": [
    {
     "name": "stdout",
     "output_type": "stream",
     "text": [
      "(3843, 4096)\n"
     ]
    }
   ],
   "source": [
    "from glob import glob\n",
    "import matplotlib.pyplot as plt\n",
    "import numpy as np\n",
    "import os\n",
    "import pandas as pd\n",
    "from sklearn.neighbors import NearestNeighbors\n",
    "from winnow.feature_extraction import SimilarityModel\n",
    "\n",
    "import yaml\n",
    "\n",
    "\n",
    "\n",
    "with open(\"../config.yaml\", 'r') as ymlfile:\n",
    "    cfg = yaml.load(ymlfile)\n",
    "\n",
    "\n",
    "VIDEO_SIGNATURES_SAVE_FOLDER = cfg['video_signatures_folder'] \n",
    "DISTANCE = cfg['match_distance']\n",
    "\n",
    "\n",
    "sm = SimilarityModel()\n",
    "video_signatures = sm.predict(VIDEO_LEVEL_SAVE_FOLDER)\n",
    "video_signatures = np.nan_to_num(video_signatures)\n",
    "labels = np.array([x.split('_vgg')[0].split('/')[-1] for x in  sm.index])\n",
    "\n",
    "\n",
    "def filter_results(thr):\n",
    "    results = []\n",
    "    results_distances = []\n",
    "    msk = distances < thr\n",
    "    for i,r in enumerate(msk):\n",
    "        results.append(indices[i,r])\n",
    "        results_distances.append(distances[i,r])\n",
    "    return results,results_distances\n",
    "\n",
    "\n",
    "\n",
    "nn = NearestNeighbors(n_neighbors=50,metric='euclidean',algorithm='kd_tree')\n",
    "nn.fit(video_signatures)\n",
    "distances,indices = nn.kneighbors(video_signatures)\n",
    "\n",
    "\n",
    "\n",
    "\n",
    "results,results_distances = filter_results(DISTANCE)\n",
    "\n",
    "ss = sorted(zip(results,results_distances),key=lambda x:len(x[0]),reverse=True)\n",
    "results_sorted = [x[0] for x in ss]\n",
    "results_sorted_distance = [x[1] for x in ss]\n",
    "\n",
    "\n",
    "q = []\n",
    "m = []\n",
    "distance = []\n",
    "\n",
    "\n",
    "for i,r in enumerate(results_sorted):\n",
    "    for j,matches in enumerate(r):\n",
    "        if j == 0:\n",
    "            qq = matches\n",
    "        q.append(qq)\n",
    "        m.append(matches)\n",
    "        distance.append(results_sorted_distance[i][j])\n",
    "\n",
    "match_df = pd.DataFrame({\"query\":q,\"match\":m,\"distance\":distance})            \n",
    "match_df['query_video'] = labels[match_df['query']]\n",
    "match_df['match_video'] = labels[match_df['match']]\n",
    "\n",
    "\n",
    "match_df.to_csv('matches_at_{}_distance.csv'.format(DISTANCE))"
   ]
  },
  {
   "cell_type": "code",
   "execution_count": 7,
   "metadata": {},
   "outputs": [
    {
     "name": "stdout",
     "output_type": "stream",
     "text": [
      "Obtaining file:///home/felipeb/winnow\n",
      "Installing collected packages: winnow\n",
      "  Found existing installation: winnow 0.1.0\n",
      "    Uninstalling winnow-0.1.0:\n",
      "      Successfully uninstalled winnow-0.1.0\n",
      "  Running setup.py develop for winnow\n",
      "Successfully installed winnow\n"
     ]
    }
   ],
   "source": [
    "! pip install -e ../."
   ]
  },
  {
   "cell_type": "code",
   "execution_count": null,
   "metadata": {},
   "outputs": [],
   "source": []
  }
 ],
 "metadata": {
  "kernelspec": {
   "display_name": "Python 3",
   "language": "python",
   "name": "python3"
  },
  "language_info": {
   "codemirror_mode": {
    "name": "ipython",
    "version": 3
   },
   "file_extension": ".py",
   "mimetype": "text/x-python",
   "name": "python",
   "nbconvert_exporter": "python",
   "pygments_lexer": "ipython3",
   "version": "3.6.8"
  }
 },
 "nbformat": 4,
 "nbformat_minor": 2
}
