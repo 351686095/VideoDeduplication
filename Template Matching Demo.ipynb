{
 "cells": [
  {
   "cell_type": "markdown",
   "metadata": {},
   "source": [
    "## Template Matching based labeling"
   ]
  },
  {
   "cell_type": "code",
   "execution_count": 1,
   "metadata": {},
   "outputs": [
    {
     "name": "stdout",
     "output_type": "stream",
     "text": [
      "Pretrained Model Found\n",
      "WARNING:tensorflow:From /home/felipe/ai/toptal/benetech/VideoDeduplication/winnow/feature_extraction/siamese_net.py:7: The name tf.logging.set_verbosity is deprecated. Please use tf.compat.v1.logging.set_verbosity instead.\n",
      "\n",
      "WARNING:tensorflow:From /home/felipe/ai/toptal/benetech/VideoDeduplication/winnow/feature_extraction/siamese_net.py:7: The name tf.logging.WARN is deprecated. Please use tf.compat.v1.logging.WARN instead.\n",
      "\n"
     ]
    }
   ],
   "source": [
    "import numpy as np\n",
    "import matplotlib.pyplot as plt\n",
    "from scipy.spatial.distance import cdist\n",
    "from glob import glob\n",
    "from winnow.feature_extraction.extraction_routine import load_featurizer\n",
    "from winnow.feature_extraction.utils import load_image,load_video\n",
    "from winnow.search_engine.template_matching import SearchEngine\n",
    "from winnow.annotation.tools import Annotator\n",
    "import requests\n",
    "import shutil\n",
    "import os"
   ]
  },
  {
   "cell_type": "code",
   "execution_count": 2,
   "metadata": {},
   "outputs": [],
   "source": [
    "TEMPLATES_PATH = 'data/templates2'"
   ]
  },
  {
   "cell_type": "code",
   "execution_count": 3,
   "metadata": {},
   "outputs": [
    {
     "name": "stdout",
     "output_type": "stream",
     "text": [
      "Templates Found ['data/templates2/templates.tar.gz']\n"
     ]
    }
   ],
   "source": [
    "\n",
    "\n",
    "def download_file(local_filename,url):\n",
    "    # local_filename = url.split('/')[-1]\n",
    "    r = requests.get(url, stream=True)\n",
    "    with open(local_filename, 'wb') as f:\n",
    "        shutil.copyfileobj(r.raw, f)\n",
    "    return local_filename\n",
    "    \n",
    "if os.path.exists(TEMPLATES_PATH):\n",
    "    print('Templates Found',glob(TEMPLATES_PATH + '/**'))\n",
    "\n",
    "else:    \n",
    "    try:\n",
    "        os.makedirs(TEMPLATES_PATH)\n",
    "    except Exception as e:\n",
    "        print(e)\n",
    "        pass\n",
    "    print('Downloading pretrained model to:{}'.format(TEMPLATES_PATH))\n",
    "    download_file(TEMPLATES_PATH + '/templates.tar.gz',\"https://s3.amazonaws.com/winnowpretrainedmodels/templates.tar.gz\")\n",
    "     "
   ]
  },
  {
   "cell_type": "code",
   "execution_count": 4,
   "metadata": {},
   "outputs": [
    {
     "data": {
      "text/plain": [
       "True"
      ]
     },
     "execution_count": 4,
     "metadata": {},
     "output_type": "execute_result"
    }
   ],
   "source": [
    "os.path.exists(TEMPLATES_PATH + '/templates.tar.gz')"
   ]
  },
  {
   "cell_type": "code",
   "execution_count": 5,
   "metadata": {},
   "outputs": [],
   "source": [
    "# shutil.unpack_archive(TEMPLATES_PATH + '/templates.tar.gz',format='gztar')"
   ]
  },
  {
   "cell_type": "code",
   "execution_count": 6,
   "metadata": {
    "scrolled": true
   },
   "outputs": [
    {
     "name": "stdout",
     "output_type": "stream",
     "text": [
      "WARNING:tensorflow:\n",
      "The TensorFlow contrib module will not be included in TensorFlow 2.0.\n",
      "For more information, please see:\n",
      "  * https://github.com/tensorflow/community/blob/master/rfcs/20180907-contrib-sunset.md\n",
      "  * https://github.com/tensorflow/addons\n",
      "  * https://github.com/tensorflow/io (for I/O related ops)\n",
      "If you depend on functionality not listed there, please file an issue.\n",
      "\n",
      "WARNING:tensorflow:From /home/felipe/ai/toptal/benetech/VideoDeduplication/winnow/feature_extraction/model_tf.py:78: The name tf.placeholder is deprecated. Please use tf.compat.v1.placeholder instead.\n",
      "\n",
      "WARNING:tensorflow:From /home/felipe/ai/toptal/benetech/VideoDeduplication/winnow/feature_extraction/model_tf.py:132: to_float (from tensorflow.python.ops.math_ops) is deprecated and will be removed in a future version.\n",
      "Instructions for updating:\n",
      "Use `tf.cast` instead.\n",
      "WARNING:tensorflow:From /home/felipe/ai/toptal/benetech/VideoDeduplication/winnow/feature_extraction/nets/vgg.py:145: The name tf.variable_scope is deprecated. Please use tf.compat.v1.variable_scope instead.\n",
      "\n",
      "WARNING:tensorflow:From /home/felipe/anaconda3/envs/winnow-gpu/lib/python3.6/site-packages/tensorflow_core/contrib/layers/python/layers/layers.py:1057: Layer.apply (from tensorflow.python.keras.engine.base_layer) is deprecated and will be removed in a future version.\n",
      "Instructions for updating:\n",
      "Please use `layer.__call__` method instead.\n",
      "WARNING:tensorflow:From /home/felipe/ai/toptal/benetech/VideoDeduplication/winnow/feature_extraction/model_tf.py:114: The name tf.global_variables is deprecated. Please use tf.compat.v1.global_variables instead.\n",
      "\n",
      "WARNING:tensorflow:From /home/felipe/ai/toptal/benetech/VideoDeduplication/winnow/feature_extraction/model_tf.py:117: The name tf.global_variables_initializer is deprecated. Please use tf.compat.v1.global_variables_initializer instead.\n",
      "\n",
      "WARNING:tensorflow:From /home/felipe/ai/toptal/benetech/VideoDeduplication/winnow/feature_extraction/model_tf.py:96: The name tf.ConfigProto is deprecated. Please use tf.compat.v1.ConfigProto instead.\n",
      "\n",
      "WARNING:tensorflow:From /home/felipe/ai/toptal/benetech/VideoDeduplication/winnow/feature_extraction/model_tf.py:99: The name tf.Session is deprecated. Please use tf.compat.v1.Session instead.\n",
      "\n"
     ]
    }
   ],
   "source": [
    "model = load_featurizer()"
   ]
  },
  {
   "cell_type": "code",
   "execution_count": 7,
   "metadata": {},
   "outputs": [],
   "source": [
    "se = SearchEngine('data/templates/test-group/CCSI Object Recognition External/*',\n",
    "                  'data/representations/frame_level/*features.npy',\n",
    "                  model)"
   ]
  },
  {
   "cell_type": "code",
   "execution_count": 8,
   "metadata": {},
   "outputs": [
    {
     "data": {
      "text/plain": [
       "{'Homs Skyline': 'data/templates/test-group/CCSI Object Recognition External/Homs Skyline',\n",
       " 'Explosion Smoke': 'data/templates/test-group/CCSI Object Recognition External/Explosion Smoke',\n",
       " 'Aleppo Great Mosque': 'data/templates/test-group/CCSI Object Recognition External/Aleppo Great Mosque',\n",
       " 'Cluster Munitions': 'data/templates/test-group/CCSI Object Recognition External/Cluster Munitions',\n",
       " 'Tank': 'data/templates/test-group/CCSI Object Recognition External/Tank',\n",
       " 'Helicopter': 'data/templates/test-group/CCSI Object Recognition External/Helicopter',\n",
       " 'ISIS Logo': 'data/templates/test-group/CCSI Object Recognition External/ISIS Logo',\n",
       " 'Plane': 'data/templates/test-group/CCSI Object Recognition External/Plane'}"
      ]
     },
     "execution_count": 8,
     "metadata": {},
     "output_type": "execute_result"
    }
   ],
   "source": [
    "se.available_queries"
   ]
  },
  {
   "cell_type": "code",
   "execution_count": 9,
   "metadata": {},
   "outputs": [
    {
     "name": "stdout",
     "output_type": "stream",
     "text": [
      "Loaded query embeddings (5, 4096)\n",
      "Loaded query embeddings (8, 4096)\n",
      "Loaded query embeddings (6, 4096)\n",
      "Loaded query embeddings (6, 4096)\n",
      "Loaded query embeddings (5, 4096)\n",
      "Loaded query embeddings (6, 4096)\n",
      "Loaded query embeddings (9, 4096)\n",
      "Loaded query embeddings (9, 4096)\n"
     ]
    },
    {
     "data": {
      "text/html": [
       "<div>\n",
       "<style scoped>\n",
       "    .dataframe tbody tr th:only-of-type {\n",
       "        vertical-align: middle;\n",
       "    }\n",
       "\n",
       "    .dataframe tbody tr th {\n",
       "        vertical-align: top;\n",
       "    }\n",
       "\n",
       "    .dataframe thead th {\n",
       "        text-align: right;\n",
       "    }\n",
       "</style>\n",
       "<table border=\"1\" class=\"dataframe\">\n",
       "  <thead>\n",
       "    <tr style=\"text-align: right;\">\n",
       "      <th></th>\n",
       "      <th>index</th>\n",
       "      <th>variable</th>\n",
       "      <th>value</th>\n",
       "      <th>match_video</th>\n",
       "      <th>distance</th>\n",
       "      <th>query_video</th>\n",
       "    </tr>\n",
       "  </thead>\n",
       "  <tbody>\n",
       "    <tr>\n",
       "      <th>0</th>\n",
       "      <td>data/representations/frame_level/0b0da56354ff4...</td>\n",
       "      <td>Aleppo Great Mosque</td>\n",
       "      <td>0.084189</td>\n",
       "      <td>0b0da56354ff4f9394f71e2e3d9a81d5.webm</td>\n",
       "      <td>0.084189</td>\n",
       "      <td>Aleppo Great Mosque.npy</td>\n",
       "    </tr>\n",
       "    <tr>\n",
       "      <th>1</th>\n",
       "      <td>data/representations/frame_level/c90878821c3e4...</td>\n",
       "      <td>Aleppo Great Mosque</td>\n",
       "      <td>0.105801</td>\n",
       "      <td>c90878821c3e446c8fd2d43a3a2c212e.ogv</td>\n",
       "      <td>0.105801</td>\n",
       "      <td>Aleppo Great Mosque.npy</td>\n",
       "    </tr>\n",
       "    <tr>\n",
       "      <th>2</th>\n",
       "      <td>data/representations/frame_level/e1ae9880d6ba4...</td>\n",
       "      <td>Aleppo Great Mosque</td>\n",
       "      <td>0.106751</td>\n",
       "      <td>e1ae9880d6ba48b09eeb6257d935e0c8.webm</td>\n",
       "      <td>0.106751</td>\n",
       "      <td>Aleppo Great Mosque.npy</td>\n",
       "    </tr>\n",
       "    <tr>\n",
       "      <th>3</th>\n",
       "      <td>data/representations/frame_level/1ae36cbd6aab4...</td>\n",
       "      <td>Aleppo Great Mosque</td>\n",
       "      <td>0.116608</td>\n",
       "      <td>1ae36cbd6aab4cc2b315f5b3e71394b3.ogv</td>\n",
       "      <td>0.116608</td>\n",
       "      <td>Aleppo Great Mosque.npy</td>\n",
       "    </tr>\n",
       "    <tr>\n",
       "      <th>4</th>\n",
       "      <td>data/representations/frame_level/daa380d2cc3d4...</td>\n",
       "      <td>Aleppo Great Mosque</td>\n",
       "      <td>0.078198</td>\n",
       "      <td>daa380d2cc3d45b9b4f7535b698a59ce.mp4</td>\n",
       "      <td>0.078198</td>\n",
       "      <td>Aleppo Great Mosque.npy</td>\n",
       "    </tr>\n",
       "    <tr>\n",
       "      <th>...</th>\n",
       "      <td>...</td>\n",
       "      <td>...</td>\n",
       "      <td>...</td>\n",
       "      <td>...</td>\n",
       "      <td>...</td>\n",
       "      <td>...</td>\n",
       "    </tr>\n",
       "    <tr>\n",
       "      <th>14507</th>\n",
       "      <td>data/representations/frame_level/0dd007ffb1404...</td>\n",
       "      <td>Tank</td>\n",
       "      <td>0.082458</td>\n",
       "      <td>0dd007ffb1404b6e8ba6b5347c7f46cf.webm</td>\n",
       "      <td>0.082458</td>\n",
       "      <td>Tank.npy</td>\n",
       "    </tr>\n",
       "    <tr>\n",
       "      <th>14508</th>\n",
       "      <td>data/representations/frame_level/810a4cb868784...</td>\n",
       "      <td>Tank</td>\n",
       "      <td>0.082852</td>\n",
       "      <td>810a4cb868784d6a9500498daa184e04.ogv</td>\n",
       "      <td>0.082852</td>\n",
       "      <td>Tank.npy</td>\n",
       "    </tr>\n",
       "    <tr>\n",
       "      <th>14509</th>\n",
       "      <td>data/representations/frame_level/c8923457c7004...</td>\n",
       "      <td>Tank</td>\n",
       "      <td>0.090338</td>\n",
       "      <td>c8923457c70043da8fedbc54cd77ac51.ogv</td>\n",
       "      <td>0.090338</td>\n",
       "      <td>Tank.npy</td>\n",
       "    </tr>\n",
       "    <tr>\n",
       "      <th>14510</th>\n",
       "      <td>data/representations/frame_level/4cc726abbceb4...</td>\n",
       "      <td>Tank</td>\n",
       "      <td>0.082769</td>\n",
       "      <td>4cc726abbceb4bd4b95581737eb6d142.webm</td>\n",
       "      <td>0.082769</td>\n",
       "      <td>Tank.npy</td>\n",
       "    </tr>\n",
       "    <tr>\n",
       "      <th>14511</th>\n",
       "      <td>data/representations/frame_level/c0823a49780b4...</td>\n",
       "      <td>Tank</td>\n",
       "      <td>0.076404</td>\n",
       "      <td>c0823a49780b40f3a39e3ffd8f4275fb.webm</td>\n",
       "      <td>0.076404</td>\n",
       "      <td>Tank.npy</td>\n",
       "    </tr>\n",
       "  </tbody>\n",
       "</table>\n",
       "<p>14501 rows × 6 columns</p>\n",
       "</div>"
      ],
      "text/plain": [
       "                                                   index             variable  \\\n",
       "0      data/representations/frame_level/0b0da56354ff4...  Aleppo Great Mosque   \n",
       "1      data/representations/frame_level/c90878821c3e4...  Aleppo Great Mosque   \n",
       "2      data/representations/frame_level/e1ae9880d6ba4...  Aleppo Great Mosque   \n",
       "3      data/representations/frame_level/1ae36cbd6aab4...  Aleppo Great Mosque   \n",
       "4      data/representations/frame_level/daa380d2cc3d4...  Aleppo Great Mosque   \n",
       "...                                                  ...                  ...   \n",
       "14507  data/representations/frame_level/0dd007ffb1404...                 Tank   \n",
       "14508  data/representations/frame_level/810a4cb868784...                 Tank   \n",
       "14509  data/representations/frame_level/c8923457c7004...                 Tank   \n",
       "14510  data/representations/frame_level/4cc726abbceb4...                 Tank   \n",
       "14511  data/representations/frame_level/c0823a49780b4...                 Tank   \n",
       "\n",
       "          value                            match_video  distance  \\\n",
       "0      0.084189  0b0da56354ff4f9394f71e2e3d9a81d5.webm  0.084189   \n",
       "1      0.105801   c90878821c3e446c8fd2d43a3a2c212e.ogv  0.105801   \n",
       "2      0.106751  e1ae9880d6ba48b09eeb6257d935e0c8.webm  0.106751   \n",
       "3      0.116608   1ae36cbd6aab4cc2b315f5b3e71394b3.ogv  0.116608   \n",
       "4      0.078198   daa380d2cc3d45b9b4f7535b698a59ce.mp4  0.078198   \n",
       "...         ...                                    ...       ...   \n",
       "14507  0.082458  0dd007ffb1404b6e8ba6b5347c7f46cf.webm  0.082458   \n",
       "14508  0.082852   810a4cb868784d6a9500498daa184e04.ogv  0.082852   \n",
       "14509  0.090338   c8923457c70043da8fedbc54cd77ac51.ogv  0.090338   \n",
       "14510  0.082769  4cc726abbceb4bd4b95581737eb6d142.webm  0.082769   \n",
       "14511  0.076404  c0823a49780b40f3a39e3ffd8f4275fb.webm  0.076404   \n",
       "\n",
       "                   query_video  \n",
       "0      Aleppo Great Mosque.npy  \n",
       "1      Aleppo Great Mosque.npy  \n",
       "2      Aleppo Great Mosque.npy  \n",
       "3      Aleppo Great Mosque.npy  \n",
       "4      Aleppo Great Mosque.npy  \n",
       "...                        ...  \n",
       "14507                 Tank.npy  \n",
       "14508                 Tank.npy  \n",
       "14509                 Tank.npy  \n",
       "14510                 Tank.npy  \n",
       "14511                 Tank.npy  \n",
       "\n",
       "[14501 rows x 6 columns]"
      ]
     },
     "execution_count": 9,
     "metadata": {},
     "output_type": "execute_result"
    }
   ],
   "source": [
    "se.create_annotation_report(threshold=0.20)"
   ]
  },
  {
   "cell_type": "code",
   "execution_count": 10,
   "metadata": {},
   "outputs": [
    {
     "name": "stdout",
     "output_type": "stream",
     "text": [
      "Creating new column for annotation: annotation_is_match - default value: -1\n"
     ]
    }
   ],
   "source": [
    "annotator = Annotator('template_test.csv',\n",
    "                      'annotated_report.csv',\n",
    "                       annotation_label='annotation_is_match',\n",
    "                      transform_query_path=False,frames_directory='data/representations/frame_level/')"
   ]
  },
  {
   "cell_type": "code",
   "execution_count": 11,
   "metadata": {},
   "outputs": [
    {
     "data": {
      "application/vnd.jupyter.widget-view+json": {
       "model_id": "fa39a813ebb54c84b3fb4014b4ce77cd",
       "version_major": 2,
       "version_minor": 0
      },
      "text/plain": [
       "GridspecLayout(children=(Output(layout=Layout(grid_area='widget001')), Output(layout=Layout(grid_area='widget0…"
      ]
     },
     "metadata": {},
     "output_type": "display_data"
    }
   ],
   "source": [
    "annotator.run()"
   ]
  },
  {
   "cell_type": "code",
   "execution_count": null,
   "metadata": {},
   "outputs": [],
   "source": []
  }
 ],
 "metadata": {
  "kernelspec": {
   "display_name": "Python 3",
   "language": "python",
   "name": "python3"
  },
  "language_info": {
   "codemirror_mode": {
    "name": "ipython",
    "version": 3
   },
   "file_extension": ".py",
   "mimetype": "text/x-python",
   "name": "python",
   "nbconvert_exporter": "python",
   "pygments_lexer": "ipython3",
   "version": "3.6.7"
  }
 },
 "nbformat": 4,
 "nbformat_minor": 2
}
